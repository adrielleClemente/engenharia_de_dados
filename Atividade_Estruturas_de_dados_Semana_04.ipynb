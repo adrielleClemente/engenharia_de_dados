{
 "cells": [
  {
   "cell_type": "markdown",
   "metadata": {
    "id": "v8pFWwviib2C"
   },
   "source": [
    "![Growdev](https://www.growdev.com.br/assets/images/logo_growdev.png)"
   ]
  },
  {
   "cell_type": "markdown",
   "metadata": {
    "id": "6Tkl4_HxifXZ"
   },
   "source": [
    "![Formação Engenharia de Dados](https://d335luupugsy2.cloudfront.net/cms/files/524558/1707226566/$occu5m8t1op)"
   ]
  },
  {
   "cell_type": "markdown",
   "metadata": {
    "id": "ty7Bzyl1i9bN"
   },
   "source": [
    "Este material tem como objetivo incentivar a prática dos conteúdos estudados até o momento, e a pesquisa. Tenha em consideração que o exercício foi pensado para incentivar a prática dos conteúdos estudados até então, porém aprender a pesquisar faz parte do processo de aprendizagem.\n",
    "\n",
    "Fique tranquilo, faça os exercícios com calma, e boa prática!\n"
   ]
  },
  {
   "cell_type": "markdown",
   "metadata": {
    "id": "DU5-yCQwjx3V"
   },
   "source": [
    "#Orientações:\n",
    "\n",
    " - Faça uma copia deste arquivo\n",
    " - Após concluir os exercicios, suba seu exercicio para o GitHub e compartilhe o link no **google** Classroom\n"
   ]
  },
  {
   "cell_type": "markdown",
   "metadata": {
    "id": "EzT810tnlmfE"
   },
   "source": [
    "#Exercícios"
   ]
  },
  {
   "cell_type": "markdown",
   "metadata": {
    "id": "rDqBAimhSq_C"
   },
   "source": [
    "#Listas"
   ]
  },
  {
   "cell_type": "markdown",
   "metadata": {
    "id": "GoGkz2n-SudC"
   },
   "source": [
    "Para esse exercicio você tera alguns desafios, separei eles em partes, vamos lá?\n",
    "\n",
    "1 - Crie uma lista com 100 números inteiros.\n",
    "- Pode ser uma sequência, ou caso queira se desafiar faça de números aleatorios.\n",
    "- Os dados não devem ser inseridos manualmente, utilize de um laço de repetição para adicionar os elementos a Lista.\n"
   ]
  },
  {
   "cell_type": "code",
   "execution_count": 3,
   "metadata": {
    "id": "lLYBJr0KSuJW"
   },
   "outputs": [
    {
     "name": "stdout",
     "output_type": "stream",
     "text": [
      "[1, 2, 3, 4, 5, 6, 7, 8, 9, 10, 11, 12, 13, 14, 15, 16, 17, 18, 19, 20, 21, 22, 23, 24, 25, 26, 27, 28, 29, 30, 31, 32, 33, 34, 35, 36, 37, 38, 39, 40, 41, 42, 43, 44, 45, 46, 47, 48, 49, 50, 51, 52, 53, 54, 55, 56, 57, 58, 59, 60, 61, 62, 63, 64, 65, 66, 67, 68, 69, 70, 71, 72, 73, 74, 75, 76, 77, 78, 79, 80, 81, 82, 83, 84, 85, 86, 87, 88, 89, 90, 91, 92, 93, 94, 95, 96, 97, 98, 99, 100]\n"
     ]
    }
   ],
   "source": [
    "numeros = []\n",
    "for i in range(1,101,1):\n",
    "    numeros.append(i)\n",
    "print(numeros)"
   ]
  },
  {
   "cell_type": "markdown",
   "metadata": {
    "id": "LQ0SVqxyVTD5"
   },
   "source": [
    "2 - Calcule e exiba a soma de todos os números da lista."
   ]
  },
  {
   "cell_type": "code",
   "execution_count": 4,
   "metadata": {
    "id": "6HP8yU1bVS0F"
   },
   "outputs": [
    {
     "data": {
      "text/plain": [
       "5050"
      ]
     },
     "execution_count": 4,
     "metadata": {},
     "output_type": "execute_result"
    }
   ],
   "source": [
    "sum(numeros)"
   ]
  },
  {
   "cell_type": "markdown",
   "metadata": {
    "id": "HYQGLklTTPMx"
   },
   "source": [
    "3 - Exiba o maior e o menor número da lista."
   ]
  },
  {
   "cell_type": "code",
   "execution_count": 5,
   "metadata": {
    "id": "q_UZx7EETT6S"
   },
   "outputs": [
    {
     "name": "stdout",
     "output_type": "stream",
     "text": [
      "1\n",
      "100\n"
     ]
    }
   ],
   "source": [
    "print(min(numeros))\n",
    "print(max(numeros))"
   ]
  },
  {
   "cell_type": "markdown",
   "metadata": {
    "id": "1iU6ZtRhVN9i"
   },
   "source": [
    "4 - Pesquise se o número 77 esta presente na lista e exiba:\n",
    "- Quantas vezes esse número aparece na lista\n",
    "- Se aparece em qual ou quais posições(Indice)."
   ]
  },
  {
   "cell_type": "code",
   "execution_count": 11,
   "metadata": {
    "id": "OGVH4AoGWU2R"
   },
   "outputs": [
    {
     "data": {
      "text/plain": [
       "1"
      ]
     },
     "execution_count": 11,
     "metadata": {},
     "output_type": "execute_result"
    }
   ],
   "source": [
    "pesquisa = 77\n",
    "\n",
    "lista.count(pesquisa)"
   ]
  },
  {
   "cell_type": "code",
   "execution_count": 16,
   "metadata": {},
   "outputs": [
    {
     "name": "stdout",
     "output_type": "stream",
     "text": [
      "O número 77 está no índece [76].\n"
     ]
    }
   ],
   "source": [
    "indice = []\n",
    "\n",
    "for i in range(len(lista)):\n",
    "    if lista[i] == pesquisa:\n",
    "        indice.append(i)\n",
    "print(f'O número {pesquisa} está no índece {indice}.')"
   ]
  },
  {
   "cell_type": "markdown",
   "metadata": {
    "id": "jrwycUMvWVSu"
   },
   "source": [
    "5 - Ordene a lista de forma descendente e exiba."
   ]
  },
  {
   "cell_type": "code",
   "execution_count": 18,
   "metadata": {
    "id": "RvRpLp87e5CB"
   },
   "outputs": [
    {
     "name": "stdout",
     "output_type": "stream",
     "text": [
      "[100, 99, 98, 97, 96, 95, 94, 93, 92, 91, 90, 89, 88, 87, 86, 85, 84, 83, 82, 81, 80, 79, 78, 77, 76, 75, 74, 73, 72, 71, 70, 69, 68, 67, 66, 65, 64, 63, 62, 61, 60, 59, 58, 57, 56, 55, 54, 53, 52, 51, 50, 49, 48, 47, 46, 45, 44, 43, 42, 41, 40, 39, 38, 37, 36, 35, 34, 33, 32, 31, 30, 29, 28, 27, 26, 25, 24, 23, 22, 21, 20, 19, 18, 17, 16, 15, 14, 13, 12, 11, 10, 9, 8, 7, 6, 5, 4, 3, 2, 1]\n"
     ]
    }
   ],
   "source": [
    "print(lista[::-1])"
   ]
  },
  {
   "cell_type": "markdown",
   "metadata": {
    "id": "Be68CsC2OftE"
   },
   "source": [
    "## Tuplas:"
   ]
  },
  {
   "cell_type": "markdown",
   "metadata": {
    "id": "SQzRrAmq1SnR"
   },
   "source": [
    "Crie uma tupla com os dias da semana e peça para o usuário digitar um número de 1 a 7. Exiba o dia correspondente."
   ]
  },
  {
   "cell_type": "code",
   "execution_count": 24,
   "metadata": {
    "id": "7BqDEfeq1TZE"
   },
   "outputs": [
    {
     "name": "stdin",
     "output_type": "stream",
     "text": [
      "Digite um número de 1 a 7:  2\n"
     ]
    },
    {
     "name": "stdout",
     "output_type": "stream",
     "text": [
      "O dia correspondente é: Segunda-feira\n"
     ]
    }
   ],
   "source": [
    "dias_da_semana = (\"Domingo\", \"Segunda-feira\", \"Terça-feira\", \"Quarta-feira\", \"Quinta-feira\", \"Sexta-feira\", \"Sábado\")\n",
    "\n",
    "numero_semana = int(input(\"Digite um número de 1 a 7: \"))\n",
    "\n",
    "if 1 <= numero_semana <= 7:\n",
    "    print(f\"O dia correspondente é: {dias_da_semana[numero_semana - 1]}\")\n",
    "else:\n",
    "    print(\"Número inválido! Por favor, digite um número de 1 a 7.\")\n"
   ]
  },
  {
   "cell_type": "code",
   "execution_count": 23,
   "metadata": {
    "id": "J2pBsS-f7idJ"
   },
   "outputs": [
    {
     "data": {
      "text/plain": [
       "'Segunda-feira'"
      ]
     },
     "execution_count": 23,
     "metadata": {},
     "output_type": "execute_result"
    }
   ],
   "source": [
    "dias_da_semana[2-1]"
   ]
  },
  {
   "cell_type": "markdown",
   "metadata": {
    "id": "J9LW9fru7hv6"
   },
   "source": [
    "Crie duas tuplas com números inteiros e crie uma terceira tupla com a concatenação das duas."
   ]
  },
  {
   "cell_type": "code",
   "execution_count": 25,
   "metadata": {},
   "outputs": [
    {
     "data": {
      "text/plain": [
       "(1, 2, 3, 4, 5, 6, 7, 8, 9, 10)"
      ]
     },
     "execution_count": 25,
     "metadata": {},
     "output_type": "execute_result"
    }
   ],
   "source": [
    "tupla1 = (1,2,3,4,5)\n",
    "tupla2 = (6,7,8,9,10)\n",
    "\n",
    "tupla3 = tupla1 + tupla2\n",
    "tupla3"
   ]
  },
  {
   "cell_type": "markdown",
   "metadata": {
    "id": "ytDz_SXB7o-8"
   },
   "source": [
    " Crie uma tupla com alguns elementos e remova um elemento específico."
   ]
  },
  {
   "cell_type": "code",
   "execution_count": 30,
   "metadata": {
    "id": "QvIAx6HP7pbh"
   },
   "outputs": [
    {
     "name": "stdout",
     "output_type": "stream",
     "text": [
      "('agua', 'fogo', 'terra', 'ar')\n"
     ]
    }
   ],
   "source": [
    "tupla_elemento = ('agua', 'fogo', 'terra', 'ar', 'eter')\n",
    "lista = list(tupla_elemento)\n",
    "\n",
    "lista.remove('eter')\n",
    "\n",
    "nova_tupla = tuple(lista)\n",
    "\n",
    "print(nova_tupla)"
   ]
  },
  {
   "cell_type": "markdown",
   "metadata": {
    "id": "v_JM0Has1pPL"
   },
   "source": [
    "# Sets"
   ]
  },
  {
   "cell_type": "markdown",
   "metadata": {
    "id": "Urrv-Y291roJ"
   },
   "source": [
    "Crie dois sets com cores diferentes e exiba na tela a união dos dois sets."
   ]
  },
  {
   "cell_type": "code",
   "execution_count": 35,
   "metadata": {
    "id": "FM4S-PEa1zSW"
   },
   "outputs": [
    {
     "data": {
      "text/plain": [
       "{'amarelo', 'azul', 'roxo', 'verde', 'vermelho'}"
      ]
     },
     "execution_count": 35,
     "metadata": {},
     "output_type": "execute_result"
    }
   ],
   "source": [
    "set1 = {\"vermelho\", \"azul\", \"verde\"}\n",
    "set2 = {\"azul\", \"amarelo\", \"roxo\"}\n",
    "\n",
    "uniao = set1|set2\n",
    "uniao"
   ]
  },
  {
   "cell_type": "markdown",
   "metadata": {
    "id": "0q0tG4eG1zkL"
   },
   "source": [
    "Crie uma lista com alguns números repetidos. Converta essa lista em um set para remover as duplicatas e exiba o resultado."
   ]
  },
  {
   "cell_type": "code",
   "execution_count": 36,
   "metadata": {
    "id": "j4okoTWR2I_R"
   },
   "outputs": [
    {
     "data": {
      "text/plain": [
       "{1, 6, 7, 8, 9, 10, 11}"
      ]
     },
     "execution_count": 36,
     "metadata": {},
     "output_type": "execute_result"
    }
   ],
   "source": [
    "lista = [1,1,6,7,8,8,9,10,10,11]\n",
    "meu_set = set(lista)\n",
    "meu_set"
   ]
  },
  {
   "cell_type": "markdown",
   "metadata": {
    "id": "4MCBgr-k1fvU"
   },
   "source": [
    "# Dicionários:"
   ]
  },
  {
   "cell_type": "markdown",
   "metadata": {
    "id": "0A-DeyIMPh4g"
   },
   "source": [
    " Crie um dicionário com os nomes de algumas frutas e suas respectivas cores. Exiba na tela somente as frutas que são vermelhas."
   ]
  },
  {
   "cell_type": "code",
   "execution_count": 39,
   "metadata": {
    "id": "7jlD2DV4Pjom"
   },
   "outputs": [
    {
     "name": "stdout",
     "output_type": "stream",
     "text": [
      "maçã\n",
      "morango\n",
      "cereja\n",
      "framboesa\n"
     ]
    }
   ],
   "source": [
    "fruta = {\n",
    "    \"maçã\": \"vermelha\",\n",
    "    \"morango\": \"vermelho\",\n",
    "    \"cereja\": \"vermelha\",\n",
    "    \"framboesa\": \"vermelha\",\n",
    "    \"uva\": \"roxa\",\n",
    "    \"banana\": \"amarela\"\n",
    "}\n",
    "\n",
    "for fruta, cor in fruta.items():\n",
    "    if cor == \"vermelha\" or cor == \"vermelho\":\n",
    "        print(fruta)"
   ]
  },
  {
   "cell_type": "markdown",
   "metadata": {
    "id": "q-XV14A-PmSa"
   },
   "source": [
    "Crie um dicionário com o nome e a idade de três pessoas. Busque por  um nome e exiba a idade correspondente."
   ]
  },
  {
   "cell_type": "code",
   "execution_count": 41,
   "metadata": {
    "id": "8rPH-lzG2gvh"
   },
   "outputs": [
    {
     "name": "stdin",
     "output_type": "stream",
     "text": [
      "Digite um nome do dict:  Alice\n"
     ]
    },
    {
     "name": "stdout",
     "output_type": "stream",
     "text": [
      "A idade de Alice é 25 anos.\n"
     ]
    }
   ],
   "source": [
    "pessoas = {\n",
    "    \"Alice\": 25,\n",
    "    \"Bob\": 30,\n",
    "    \"Carol\": 22\n",
    "}\n",
    "\n",
    "nome_busca = str(input('Digite um nome do dict: '))\n",
    "\n",
    "if nome_busca in pessoas:\n",
    "    idade = pessoas[nome_busca]\n",
    "    print(f\"A idade de {nome_busca} é {idade} anos.\")\n",
    "else:\n",
    "    print(f\"{nome_busca} não foi encontrado no dicionário.\")\n"
   ]
  },
  {
   "cell_type": "markdown",
   "metadata": {
    "id": "yEn6q_MP5SdW"
   },
   "source": [
    "Crie um dicionário com os nomes e idades de algumas pessoas. Peça para o usuário digitar um nome e sua nova idade, e atualize o dicionário com essa informação."
   ]
  },
  {
   "cell_type": "code",
   "execution_count": 42,
   "metadata": {
    "id": "H-RHnfMm5TcR"
   },
   "outputs": [
    {
     "name": "stdin",
     "output_type": "stream",
     "text": [
      "Digite o nome:  Carol\n",
      "Digite a nova idade:  23\n"
     ]
    },
    {
     "name": "stdout",
     "output_type": "stream",
     "text": [
      "Dicionário atualizado: {'Alice': 25, 'Bob': 30, 'Carol': 23}\n"
     ]
    }
   ],
   "source": [
    "# pessoas = {\n",
    "#     \"Alice\": 25,\n",
    "#     \"Bob\": 30,\n",
    "#     \"Carol\": 22\n",
    "# }\n",
    "\n",
    "nome = input(\"Digite o nome: \")\n",
    "idade = int(input(\"Digite a nova idade: \"))\n",
    "\n",
    "pessoas[nome] = idade\n",
    "\n",
    "print(\"Dicionário atualizado:\", pessoas)"
   ]
  },
  {
   "cell_type": "markdown",
   "metadata": {
    "id": "Jeelh1Xw2hab"
   },
   "source": [
    "## Desafio Dicionários:\n",
    "\n",
    "Busque o código desenvolvido para o exercicio abaixo e altere o algoritmo para:\n",
    "\n",
    " - Salvar o resultado da eleição em um dícionário.\n",
    "\n",
    "\n",
    "Exemplo de saida do dicionario: {\"Candidato 1\": 2, \"Candidato 2\": 2, \"Voto Nulo\": 0, \"Voto Branco\": 1}\n",
    "\n",
    "\n",
    "Este exercicio foi realizado na lista da semana passada, exercicio de número 4:"
   ]
  },
  {
   "cell_type": "markdown",
   "metadata": {
    "id": "cDnoQXk83e5B"
   },
   "source": [
    "\n",
    "\"Em uma eleição presidencial existem dois candidatos. Os votos são informados através de códigos. Os dados utilizados para a contagem dos votos obedecem à seguinte codificação:\n",
    "\n",
    "1,2 = voto para os respectivos candidatos\n",
    "\n",
    "3 = voto nulo\n",
    "\n",
    "4 = voto em branco;\n",
    "\n",
    "Elabore um programa que leia o código de votação de 5 eleitores. Calcule e escreva: total de votos para cada candidato total de votos nulos total de votos em branco\""
   ]
  },
  {
   "cell_type": "code",
   "execution_count": 52,
   "metadata": {},
   "outputs": [
    {
     "name": "stdin",
     "output_type": "stream",
     "text": [
      "Digite o código de votação (1, 2, 3 ou 4):  1\n",
      "Digite o código de votação (1, 2, 3 ou 4):  2\n",
      "Digite o código de votação (1, 2, 3 ou 4):  3\n",
      "Digite o código de votação (1, 2, 3 ou 4):  4\n",
      "Digite o código de votação (1, 2, 3 ou 4):  4\n"
     ]
    },
    {
     "name": "stdout",
     "output_type": "stream",
     "text": [
      "--------------------\n",
      "Resultados: {'Candidato 1': 1, 'Candidato 2': 1, 'Voto Nulo': 1, 'Voto Branco': 2}\n"
     ]
    }
   ],
   "source": [
    "resultados = {}\n",
    "\n",
    "for i in range(5):\n",
    "    codigo = int(input(\"Digite o código de votação (1, 2, 3 ou 4): \"))\n",
    "    \n",
    "    if codigo == 1 or codigo == 2:\n",
    "    \n",
    "        if codigo == 1:\n",
    "            resultados[\"Candidato 1\"] = resultados.get(\"Candidato 1\", 0) + 1\n",
    "        \n",
    "        else:\n",
    "            resultados[\"Candidato 2\"] = resultados.get(\"Candidato 2\", 0) + 1\n",
    "    \n",
    "    elif codigo == 3:\n",
    "        resultados[\"Voto Nulo\"] = resultados.get(\"Voto Nulo\", 0) + 1\n",
    "    \n",
    "    elif codigo == 4:\n",
    "        resultados[\"Voto Branco\"] = resultados.get(\"Voto Branco\", 0) + 1\n",
    "    \n",
    "    else:\n",
    "        print(\"Código inválido. Digite novamente.\")\n",
    "\n",
    "print('-'*20)\n",
    "print(\"Resultados:\", resultados)\n"
   ]
  },
  {
   "cell_type": "markdown",
   "metadata": {
    "id": "ffEKF4Kx5eQu"
   },
   "source": [
    "# Listas por Compreensão:"
   ]
  },
  {
   "cell_type": "markdown",
   "metadata": {
    "id": "IrQvRhQM5oj6"
   },
   "source": [
    "Crie uma lista com os números Impares de 1 a 20 utilizando listas por compreensão."
   ]
  },
  {
   "cell_type": "code",
   "execution_count": 53,
   "metadata": {
    "id": "lqgX2B6x5fLc"
   },
   "outputs": [
    {
     "data": {
      "text/plain": [
       "[1, 3, 5, 7, 9, 11, 13, 15, 17, 19]"
      ]
     },
     "execution_count": 53,
     "metadata": {},
     "output_type": "execute_result"
    }
   ],
   "source": [
    "numeros_impares = [x for x in range(1, 21) if x % 2 == 1]\n",
    "\n",
    "numeros_impares"
   ]
  },
  {
   "cell_type": "markdown",
   "metadata": {
    "id": "R2DKj08Z5tqJ"
   },
   "source": [
    "Crie uma lista com as letras da frase \"Sou estudante de dados\", utilizando listas por compreensão."
   ]
  },
  {
   "cell_type": "code",
   "execution_count": 55,
   "metadata": {
    "id": "22s-ixin3J1K"
   },
   "outputs": [
    {
     "name": "stdout",
     "output_type": "stream",
     "text": [
      "['S', 'o', 'u', 'e', 's', 't', 'u', 'd', 'a', 'n', 't', 'e', 'd', 'e', 'd', 'a', 'd', 'o', 's']\n"
     ]
    }
   ],
   "source": [
    "frase = \"Sou estudante de dados\"\n",
    "\n",
    "lista_letras = [letra for letra in frase if letra != \" \"] #verifico o espaço\n",
    "print(lista_letras)"
   ]
  },
  {
   "cell_type": "code",
   "execution_count": null,
   "metadata": {},
   "outputs": [],
   "source": []
  }
 ],
 "metadata": {
  "colab": {
   "provenance": []
  },
  "kernelspec": {
   "display_name": "Python 3 (ipykernel)",
   "language": "python",
   "name": "python3"
  },
  "language_info": {
   "codemirror_mode": {
    "name": "ipython",
    "version": 3
   },
   "file_extension": ".py",
   "mimetype": "text/x-python",
   "name": "python",
   "nbconvert_exporter": "python",
   "pygments_lexer": "ipython3",
   "version": "3.11.4"
  }
 },
 "nbformat": 4,
 "nbformat_minor": 4
}
