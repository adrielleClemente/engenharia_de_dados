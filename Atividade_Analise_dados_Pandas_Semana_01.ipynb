{
 "cells": [
  {
   "cell_type": "markdown",
   "metadata": {
    "id": "v8pFWwviib2C"
   },
   "source": [
    "![Growdev](https://www.growdev.com.br/assets/images/logo_growdev.png)"
   ]
  },
  {
   "cell_type": "markdown",
   "metadata": {
    "id": "6Tkl4_HxifXZ"
   },
   "source": [
    "![Formação Engenharia de Dados](https://d335luupugsy2.cloudfront.net/cms/files/524558/1707226566/$occu5m8t1op)"
   ]
  },
  {
   "cell_type": "markdown",
   "metadata": {
    "id": "ty7Bzyl1i9bN"
   },
   "source": [
    "Este material tem como objetivo incentivar a prática dos conteúdos estudados até o momento, e a pesquisa. Tenha em consideração que o exercício foi pensado para incentivar a prática dos conteúdos estudados até então, porém aprender a pesquisar faz parte do processo de aprendizagem.\n",
    "\n",
    "Fique tranquilo, faça os exercícios com calma, e boa prática!\n"
   ]
  },
  {
   "cell_type": "markdown",
   "metadata": {
    "id": "DU5-yCQwjx3V"
   },
   "source": [
    "### Orientações:\n",
    "\n",
    " - Faça uma copia deste arquivo\n",
    " - Após concluir os exercicios, suba seu exercicio para o GitHub e compartilhe o link no **google** Classroom\n"
   ]
  },
  {
   "cell_type": "markdown",
   "metadata": {
    "id": "jPJ5hyxa2cos"
   },
   "source": [
    "\n",
    "Utilize o dataset contido nesse [link](https://www.kaggle.com/datasets/upadorprofzs/testes), e responda as questões abaixo.\n",
    "\n",
    "O dataset contém dados estatísticos do IBGE relativos à escolaridade, renda entre outros campos avaliados pela  PNAD (Pesquisa Nacional por Amostra de Domicílios).\n",
    "\n",
    "Os dados podem representar informações relevantes e reveladoras sobre a distribuição de renda e possivelmente alguns indicadores sobre tais situações encontradas a partir dos dados."
   ]
  },
  {
   "cell_type": "markdown",
   "metadata": {},
   "source": [
    "### Variáveis\n",
    "\n",
    "Código \tDescrição:\n",
    "\n",
    "11 \tRondônia\n",
    "12 \tAcre\n",
    "13 \tAmazonas\n",
    "14 \tRoraima\n",
    "15 \tPará\n",
    "16 \tAmapá\n",
    "17 \tTocantins\n",
    "21 \tMaranhão\n",
    "22 \tPiauí\n",
    "23 \tCeará\n",
    "24 \tRio Grande do Norte\n",
    "25 \tParaíba\n",
    "26 \tPernambuco\n",
    "27 \tAlagoas\n",
    "28 \tSergipe\n",
    "29 \tBahia\n",
    "31 \tMinas Gerais\n",
    "32 \tEspírito Santo\n",
    "33 \tRio de Janeiro\n",
    "35 \tSão Paulo\n",
    "41 \tParaná\n",
    "42 \tSanta Catarina\n",
    "43 \tRio Grande do Sul\n",
    "50 \tMato Grosso do Sul\n",
    "51 \tMato Grosso\n",
    "52 \tGoiás\n",
    "53 \tDistrito Federal\n",
    "\n",
    "---\n",
    "\n",
    "Código \tDescrição:\n",
    "\n",
    "0 \tMasculino\n",
    "1 \tFeminino\n",
    "\n",
    "---\n",
    "\n",
    "Código \tDescrição:\n",
    "\n",
    "0 \tIndígena\n",
    "2 \tBranca\n",
    "4 \tPreta\n",
    "6 \tAmarela\n",
    "8 \tParda\n",
    "9 \tSem declaração"
   ]
  },
  {
   "cell_type": "code",
   "execution_count": 77,
   "metadata": {},
   "outputs": [],
   "source": [
    "import pandas as pd"
   ]
  },
  {
   "cell_type": "code",
   "execution_count": 2,
   "metadata": {},
   "outputs": [
    {
     "data": {
      "text/html": [
       "<div>\n",
       "<style scoped>\n",
       "    .dataframe tbody tr th:only-of-type {\n",
       "        vertical-align: middle;\n",
       "    }\n",
       "\n",
       "    .dataframe tbody tr th {\n",
       "        vertical-align: top;\n",
       "    }\n",
       "\n",
       "    .dataframe thead th {\n",
       "        text-align: right;\n",
       "    }\n",
       "</style>\n",
       "<table border=\"1\" class=\"dataframe\">\n",
       "  <thead>\n",
       "    <tr style=\"text-align: right;\">\n",
       "      <th></th>\n",
       "      <th>UF</th>\n",
       "      <th>Sexo</th>\n",
       "      <th>Idade</th>\n",
       "      <th>Cor</th>\n",
       "      <th>Anos de Estudo</th>\n",
       "      <th>Renda</th>\n",
       "      <th>Altura</th>\n",
       "    </tr>\n",
       "  </thead>\n",
       "  <tbody>\n",
       "    <tr>\n",
       "      <th>15740</th>\n",
       "      <td>23</td>\n",
       "      <td>0</td>\n",
       "      <td>37</td>\n",
       "      <td>8</td>\n",
       "      <td>6</td>\n",
       "      <td>1200</td>\n",
       "      <td>1.727320</td>\n",
       "    </tr>\n",
       "    <tr>\n",
       "      <th>60218</th>\n",
       "      <td>42</td>\n",
       "      <td>0</td>\n",
       "      <td>23</td>\n",
       "      <td>2</td>\n",
       "      <td>13</td>\n",
       "      <td>1200</td>\n",
       "      <td>1.691865</td>\n",
       "    </tr>\n",
       "    <tr>\n",
       "      <th>9892</th>\n",
       "      <td>16</td>\n",
       "      <td>1</td>\n",
       "      <td>60</td>\n",
       "      <td>2</td>\n",
       "      <td>6</td>\n",
       "      <td>700</td>\n",
       "      <td>1.592029</td>\n",
       "    </tr>\n",
       "  </tbody>\n",
       "</table>\n",
       "</div>"
      ],
      "text/plain": [
       "       UF  Sexo  Idade  Cor  Anos de Estudo  Renda    Altura\n",
       "15740  23     0     37    8               6   1200  1.727320\n",
       "60218  42     0     23    2              13   1200  1.691865\n",
       "9892   16     1     60    2               6    700  1.592029"
      ]
     },
     "execution_count": 2,
     "metadata": {},
     "output_type": "execute_result"
    }
   ],
   "source": [
    "df = pd.read_csv('dados.csv')\n",
    "df.sample(3)"
   ]
  },
  {
   "cell_type": "code",
   "execution_count": 3,
   "metadata": {
    "id": "0drCl45SMELV"
   },
   "outputs": [
    {
     "name": "stdout",
     "output_type": "stream",
     "text": [
      "<class 'pandas.core.frame.DataFrame'>\n",
      "RangeIndex: 76840 entries, 0 to 76839\n",
      "Data columns (total 7 columns):\n",
      " #   Column          Non-Null Count  Dtype  \n",
      "---  ------          --------------  -----  \n",
      " 0   UF              76840 non-null  int64  \n",
      " 1   Sexo            76840 non-null  int64  \n",
      " 2   Idade           76840 non-null  int64  \n",
      " 3   Cor             76840 non-null  int64  \n",
      " 4   Anos de Estudo  76840 non-null  int64  \n",
      " 5   Renda           76840 non-null  int64  \n",
      " 6   Altura          76840 non-null  float64\n",
      "dtypes: float64(1), int64(6)\n",
      "memory usage: 4.1 MB\n"
     ]
    }
   ],
   "source": [
    "df.info()"
   ]
  },
  {
   "cell_type": "code",
   "execution_count": 4,
   "metadata": {},
   "outputs": [],
   "source": [
    "df['Sexo'] = df['Sexo'].replace({0 : \"masculino\",\n",
    "                                 1 : \"feminino\"})"
   ]
  },
  {
   "cell_type": "code",
   "execution_count": 5,
   "metadata": {},
   "outputs": [],
   "source": [
    "df['Cor'] = df['Cor'].replace({0 : \"indígena\",\n",
    "                               2 : \"branca\",\n",
    "                               4 : \"preta\",\n",
    "                               6 : \"amarela\",\n",
    "                               8 : \"parda\",\n",
    "                               9 : \"sem_declaração\"})"
   ]
  },
  {
   "cell_type": "code",
   "execution_count": 6,
   "metadata": {},
   "outputs": [
    {
     "data": {
      "text/html": [
       "<div>\n",
       "<style scoped>\n",
       "    .dataframe tbody tr th:only-of-type {\n",
       "        vertical-align: middle;\n",
       "    }\n",
       "\n",
       "    .dataframe tbody tr th {\n",
       "        vertical-align: top;\n",
       "    }\n",
       "\n",
       "    .dataframe thead th {\n",
       "        text-align: right;\n",
       "    }\n",
       "</style>\n",
       "<table border=\"1\" class=\"dataframe\">\n",
       "  <thead>\n",
       "    <tr style=\"text-align: right;\">\n",
       "      <th></th>\n",
       "      <th>UF</th>\n",
       "      <th>Sexo</th>\n",
       "      <th>Idade</th>\n",
       "      <th>Cor</th>\n",
       "      <th>Anos de Estudo</th>\n",
       "      <th>Renda</th>\n",
       "      <th>Altura</th>\n",
       "    </tr>\n",
       "  </thead>\n",
       "  <tbody>\n",
       "    <tr>\n",
       "      <th>16724</th>\n",
       "      <td>23</td>\n",
       "      <td>masculino</td>\n",
       "      <td>61</td>\n",
       "      <td>branca</td>\n",
       "      <td>1</td>\n",
       "      <td>150</td>\n",
       "      <td>1.837257</td>\n",
       "    </tr>\n",
       "  </tbody>\n",
       "</table>\n",
       "</div>"
      ],
      "text/plain": [
       "       UF       Sexo  Idade     Cor  Anos de Estudo  Renda    Altura\n",
       "16724  23  masculino     61  branca               1    150  1.837257"
      ]
     },
     "execution_count": 6,
     "metadata": {},
     "output_type": "execute_result"
    }
   ],
   "source": [
    "df.sample()"
   ]
  },
  {
   "cell_type": "markdown",
   "metadata": {
    "id": "EzT810tnlmfE"
   },
   "source": [
    "# Exercícios"
   ]
  },
  {
   "cell_type": "markdown",
   "metadata": {
    "id": "sYEv1vohLu34"
   },
   "source": [
    "Qual a quantidade de pessoas nas seguintes faixas etárias\n",
    "- 20 anos ou menos\n",
    "- 21 a 35 anos\n",
    "- 36 a 50 anos\n",
    "- 51 a 65 anos\n",
    "- maiores de 65 anos\n",
    "\n"
   ]
  },
  {
   "cell_type": "code",
   "execution_count": 7,
   "metadata": {
    "id": "6X6M5T7EMb-G"
   },
   "outputs": [
    {
     "name": "stdout",
     "output_type": "stream",
     "text": [
      "faixa_etaria\n",
      "36 a 50 anos          31795\n",
      "51 a 65 anos          21511\n",
      "21 a 35 anos          18789\n",
      "maiores de 65 anos     4322\n",
      "20 anos ou menos        423\n",
      "Name: count, dtype: int64\n"
     ]
    }
   ],
   "source": [
    "faixas = [0, 20, 35, 50, 65, float('inf')]\n",
    "categorias_idades = ['20 anos ou menos', '21 a 35 anos', '36 a 50 anos', '51 a 65 anos', 'maiores de 65 anos']\n",
    "\n",
    "df['faixa_etaria'] = pd.cut(df['Idade'], bins = faixas, labels = categorias_idades, right = False)\n",
    "\n",
    "contagem_por_faixa = df['faixa_etaria'].value_counts()\n",
    "\n",
    "print(contagem_por_faixa)"
   ]
  },
  {
   "cell_type": "markdown",
   "metadata": {
    "id": "6y7X1dc-MFr1"
   },
   "source": [
    "Qual é a média de escolaridade em cada faixa etária?\n"
   ]
  },
  {
   "cell_type": "code",
   "execution_count": 8,
   "metadata": {},
   "outputs": [
    {
     "data": {
      "text/plain": [
       "faixa_etaria\n",
       "20 anos ou menos       9.314421\n",
       "21 a 35 anos          10.836500\n",
       "36 a 50 anos           9.837993\n",
       "51 a 65 anos           8.423132\n",
       "maiores de 65 anos     6.041879\n",
       "Name: Anos de Estudo, dtype: float64"
      ]
     },
     "execution_count": 8,
     "metadata": {},
     "output_type": "execute_result"
    }
   ],
   "source": [
    "df.groupby('faixa_etaria')['Anos de Estudo'].mean()"
   ]
  },
  {
   "cell_type": "markdown",
   "metadata": {
    "id": "FgEq2x_mMicx"
   },
   "source": [
    "Qual a UF que concentra a maior renda?\n"
   ]
  },
  {
   "cell_type": "code",
   "execution_count": 9,
   "metadata": {
    "id": "EFe-4pq8NGRf"
   },
   "outputs": [
    {
     "data": {
      "text/plain": [
       "'O Estado 35 concentra a maior renda, somando 22539969 reias.'"
      ]
     },
     "execution_count": 9,
     "metadata": {},
     "output_type": "execute_result"
    }
   ],
   "source": [
    "(f\"O Estado {df.groupby('UF')['Renda'].sum().idxmax()} concentra a maior renda, somando {df.groupby('UF')['Renda'].sum().max()} reias.\")\n",
    "# São Paulo"
   ]
  },
  {
   "cell_type": "code",
   "execution_count": 10,
   "metadata": {},
   "outputs": [],
   "source": [
    "# df.groupby('UF')['Renda'].sum()"
   ]
  },
  {
   "cell_type": "markdown",
   "metadata": {
    "id": "VFXayO6DNJ3F"
   },
   "source": [
    "Qual a renda média de pessoas pretas e brancas de homens e mulheres?\n"
   ]
  },
  {
   "cell_type": "code",
   "execution_count": 11,
   "metadata": {
    "id": "JUO0B9kWNcCX"
   },
   "outputs": [
    {
     "data": {
      "text/html": [
       "<div>\n",
       "<style scoped>\n",
       "    .dataframe tbody tr th:only-of-type {\n",
       "        vertical-align: middle;\n",
       "    }\n",
       "\n",
       "    .dataframe tbody tr th {\n",
       "        vertical-align: top;\n",
       "    }\n",
       "\n",
       "    .dataframe thead th {\n",
       "        text-align: right;\n",
       "    }\n",
       "</style>\n",
       "<table border=\"1\" class=\"dataframe\">\n",
       "  <thead>\n",
       "    <tr style=\"text-align: right;\">\n",
       "      <th></th>\n",
       "      <th></th>\n",
       "      <th>Renda</th>\n",
       "    </tr>\n",
       "    <tr>\n",
       "      <th>Cor</th>\n",
       "      <th>Sexo</th>\n",
       "      <th></th>\n",
       "    </tr>\n",
       "  </thead>\n",
       "  <tbody>\n",
       "    <tr>\n",
       "      <th rowspan=\"2\" valign=\"top\">branca</th>\n",
       "      <th>feminino</th>\n",
       "      <td>2109.866750</td>\n",
       "    </tr>\n",
       "    <tr>\n",
       "      <th>masculino</th>\n",
       "      <td>2925.744435</td>\n",
       "    </tr>\n",
       "    <tr>\n",
       "      <th rowspan=\"2\" valign=\"top\">preta</th>\n",
       "      <th>feminino</th>\n",
       "      <td>1134.596400</td>\n",
       "    </tr>\n",
       "    <tr>\n",
       "      <th>masculino</th>\n",
       "      <td>1603.861687</td>\n",
       "    </tr>\n",
       "  </tbody>\n",
       "</table>\n",
       "</div>"
      ],
      "text/plain": [
       "                        Renda\n",
       "Cor    Sexo                  \n",
       "branca feminino   2109.866750\n",
       "       masculino  2925.744435\n",
       "preta  feminino   1134.596400\n",
       "       masculino  1603.861687"
      ]
     },
     "execution_count": 11,
     "metadata": {},
     "output_type": "execute_result"
    }
   ],
   "source": [
    "novo_df = df[['Cor','Sexo','Renda']]\n",
    "\n",
    "cores_desejadas = ['preta', 'branca']\n",
    "novo_df = novo_df[novo_df['Cor'].isin(cores_desejadas)]\n",
    "# novo_df\n",
    "\n",
    "pd.DataFrame(novo_df.groupby(['Cor','Sexo'])['Renda'].mean())"
   ]
  },
  {
   "cell_type": "markdown",
   "metadata": {
    "id": "jMjZzRxr29TF"
   },
   "source": [
    "Qual a renda média nas faixas de anos de estudo abaixo?\n",
    "- 2 anos ou menos\n",
    "- 3 a 6 anos\n",
    "- 7 a 10 anos\n",
    "- 10 a 12 anos\n",
    "- 13 anos ou mais\n"
   ]
  },
  {
   "cell_type": "code",
   "execution_count": 14,
   "metadata": {},
   "outputs": [
    {
     "data": {
      "text/html": [
       "<div>\n",
       "<style scoped>\n",
       "    .dataframe tbody tr th:only-of-type {\n",
       "        vertical-align: middle;\n",
       "    }\n",
       "\n",
       "    .dataframe tbody tr th {\n",
       "        vertical-align: top;\n",
       "    }\n",
       "\n",
       "    .dataframe thead th {\n",
       "        text-align: right;\n",
       "    }\n",
       "</style>\n",
       "<table border=\"1\" class=\"dataframe\">\n",
       "  <thead>\n",
       "    <tr style=\"text-align: right;\">\n",
       "      <th></th>\n",
       "      <th>UF</th>\n",
       "      <th>Sexo</th>\n",
       "      <th>Idade</th>\n",
       "      <th>Cor</th>\n",
       "      <th>Anos de Estudo</th>\n",
       "      <th>Renda</th>\n",
       "      <th>Altura</th>\n",
       "      <th>faixa_etaria</th>\n",
       "      <th>faixa_anos_de_estudos</th>\n",
       "    </tr>\n",
       "  </thead>\n",
       "  <tbody>\n",
       "    <tr>\n",
       "      <th>0</th>\n",
       "      <td>11</td>\n",
       "      <td>masculino</td>\n",
       "      <td>23</td>\n",
       "      <td>parda</td>\n",
       "      <td>12</td>\n",
       "      <td>800</td>\n",
       "      <td>1.603808</td>\n",
       "      <td>21 a 35 anos</td>\n",
       "      <td>10 a 12 anos</td>\n",
       "    </tr>\n",
       "    <tr>\n",
       "      <th>1</th>\n",
       "      <td>11</td>\n",
       "      <td>feminino</td>\n",
       "      <td>23</td>\n",
       "      <td>branca</td>\n",
       "      <td>12</td>\n",
       "      <td>1150</td>\n",
       "      <td>1.739790</td>\n",
       "      <td>21 a 35 anos</td>\n",
       "      <td>10 a 12 anos</td>\n",
       "    </tr>\n",
       "    <tr>\n",
       "      <th>2</th>\n",
       "      <td>11</td>\n",
       "      <td>feminino</td>\n",
       "      <td>35</td>\n",
       "      <td>parda</td>\n",
       "      <td>15</td>\n",
       "      <td>880</td>\n",
       "      <td>1.760444</td>\n",
       "      <td>36 a 50 anos</td>\n",
       "      <td>13 anos ou mais</td>\n",
       "    </tr>\n",
       "    <tr>\n",
       "      <th>3</th>\n",
       "      <td>11</td>\n",
       "      <td>masculino</td>\n",
       "      <td>46</td>\n",
       "      <td>branca</td>\n",
       "      <td>6</td>\n",
       "      <td>3500</td>\n",
       "      <td>1.783158</td>\n",
       "      <td>36 a 50 anos</td>\n",
       "      <td>7 a 10 anos</td>\n",
       "    </tr>\n",
       "    <tr>\n",
       "      <th>4</th>\n",
       "      <td>11</td>\n",
       "      <td>feminino</td>\n",
       "      <td>47</td>\n",
       "      <td>parda</td>\n",
       "      <td>9</td>\n",
       "      <td>150</td>\n",
       "      <td>1.690631</td>\n",
       "      <td>36 a 50 anos</td>\n",
       "      <td>10 a 12 anos</td>\n",
       "    </tr>\n",
       "  </tbody>\n",
       "</table>\n",
       "</div>"
      ],
      "text/plain": [
       "   UF       Sexo  Idade     Cor  Anos de Estudo  Renda    Altura  \\\n",
       "0  11  masculino     23   parda              12    800  1.603808   \n",
       "1  11   feminino     23  branca              12   1150  1.739790   \n",
       "2  11   feminino     35   parda              15    880  1.760444   \n",
       "3  11  masculino     46  branca               6   3500  1.783158   \n",
       "4  11   feminino     47   parda               9    150  1.690631   \n",
       "\n",
       "   faixa_etaria faixa_anos_de_estudos  \n",
       "0  21 a 35 anos          10 a 12 anos  \n",
       "1  21 a 35 anos          10 a 12 anos  \n",
       "2  36 a 50 anos       13 anos ou mais  \n",
       "3  36 a 50 anos           7 a 10 anos  \n",
       "4  36 a 50 anos          10 a 12 anos  "
      ]
     },
     "execution_count": 14,
     "metadata": {},
     "output_type": "execute_result"
    }
   ],
   "source": [
    "faixas_estudos = [0, 2, 6, 9, 13, float('inf')]\n",
    "anos_estudos = ['2 anos ou menos', '3 a 6 anos', '7 a 10 anos', '10 a 12 anos', '13 anos ou mais']\n",
    "\n",
    "df['faixa_anos_de_estudos'] = pd.cut(df['Anos de Estudo'], bins = faixas_estudos, labels = anos_estudos, right = False)\n",
    "\n",
    "df.head()"
   ]
  },
  {
   "cell_type": "code",
   "execution_count": 17,
   "metadata": {},
   "outputs": [
    {
     "data": {
      "text/html": [
       "<div>\n",
       "<style scoped>\n",
       "    .dataframe tbody tr th:only-of-type {\n",
       "        vertical-align: middle;\n",
       "    }\n",
       "\n",
       "    .dataframe tbody tr th {\n",
       "        vertical-align: top;\n",
       "    }\n",
       "\n",
       "    .dataframe thead th {\n",
       "        text-align: right;\n",
       "    }\n",
       "</style>\n",
       "<table border=\"1\" class=\"dataframe\">\n",
       "  <thead>\n",
       "    <tr style=\"text-align: right;\">\n",
       "      <th></th>\n",
       "      <th>Renda</th>\n",
       "    </tr>\n",
       "    <tr>\n",
       "      <th>faixa_anos_de_estudos</th>\n",
       "      <th></th>\n",
       "    </tr>\n",
       "  </thead>\n",
       "  <tbody>\n",
       "    <tr>\n",
       "      <th>2 anos ou menos</th>\n",
       "      <td>732.994187</td>\n",
       "    </tr>\n",
       "    <tr>\n",
       "      <th>3 a 6 anos</th>\n",
       "      <td>1027.102678</td>\n",
       "    </tr>\n",
       "    <tr>\n",
       "      <th>7 a 10 anos</th>\n",
       "      <td>1238.560884</td>\n",
       "    </tr>\n",
       "    <tr>\n",
       "      <th>10 a 12 anos</th>\n",
       "      <td>1691.500885</td>\n",
       "    </tr>\n",
       "    <tr>\n",
       "      <th>13 anos ou mais</th>\n",
       "      <td>4434.409106</td>\n",
       "    </tr>\n",
       "  </tbody>\n",
       "</table>\n",
       "</div>"
      ],
      "text/plain": [
       "                             Renda\n",
       "faixa_anos_de_estudos             \n",
       "2 anos ou menos         732.994187\n",
       "3 a 6 anos             1027.102678\n",
       "7 a 10 anos            1238.560884\n",
       "10 a 12 anos           1691.500885\n",
       "13 anos ou mais        4434.409106"
      ]
     },
     "execution_count": 17,
     "metadata": {},
     "output_type": "execute_result"
    }
   ],
   "source": [
    "pd.DataFrame(df.groupby('faixa_anos_de_estudos')['Renda'].mean())"
   ]
  },
  {
   "cell_type": "markdown",
   "metadata": {
    "id": "aqaMxrGMNhQv"
   },
   "source": [
    "Qual a renda média concentrada em cada faixa etária?\n",
    "\n",
    "\n"
   ]
  },
  {
   "cell_type": "code",
   "execution_count": 18,
   "metadata": {
    "id": "ZWpciLPN3Ckx"
   },
   "outputs": [
    {
     "data": {
      "text/html": [
       "<div>\n",
       "<style scoped>\n",
       "    .dataframe tbody tr th:only-of-type {\n",
       "        vertical-align: middle;\n",
       "    }\n",
       "\n",
       "    .dataframe tbody tr th {\n",
       "        vertical-align: top;\n",
       "    }\n",
       "\n",
       "    .dataframe thead th {\n",
       "        text-align: right;\n",
       "    }\n",
       "</style>\n",
       "<table border=\"1\" class=\"dataframe\">\n",
       "  <thead>\n",
       "    <tr style=\"text-align: right;\">\n",
       "      <th></th>\n",
       "      <th>Renda</th>\n",
       "    </tr>\n",
       "    <tr>\n",
       "      <th>faixa_etaria</th>\n",
       "      <th></th>\n",
       "    </tr>\n",
       "  </thead>\n",
       "  <tbody>\n",
       "    <tr>\n",
       "      <th>20 anos ou menos</th>\n",
       "      <td>912.784870</td>\n",
       "    </tr>\n",
       "    <tr>\n",
       "      <th>21 a 35 anos</th>\n",
       "      <td>1715.471606</td>\n",
       "    </tr>\n",
       "    <tr>\n",
       "      <th>36 a 50 anos</th>\n",
       "      <td>2082.588426</td>\n",
       "    </tr>\n",
       "    <tr>\n",
       "      <th>51 a 65 anos</th>\n",
       "      <td>2178.064014</td>\n",
       "    </tr>\n",
       "    <tr>\n",
       "      <th>maiores de 65 anos</th>\n",
       "      <td>1856.341277</td>\n",
       "    </tr>\n",
       "  </tbody>\n",
       "</table>\n",
       "</div>"
      ],
      "text/plain": [
       "                          Renda\n",
       "faixa_etaria                   \n",
       "20 anos ou menos     912.784870\n",
       "21 a 35 anos        1715.471606\n",
       "36 a 50 anos        2082.588426\n",
       "51 a 65 anos        2178.064014\n",
       "maiores de 65 anos  1856.341277"
      ]
     },
     "execution_count": 18,
     "metadata": {},
     "output_type": "execute_result"
    }
   ],
   "source": [
    "pd.DataFrame(df.groupby('faixa_etaria')['Renda'].mean())"
   ]
  },
  {
   "cell_type": "markdown",
   "metadata": {
    "id": "fDxIIqqS3DHs"
   },
   "source": [
    "Qual a escolaridade entre indígenas, para homens e mulheres?\n"
   ]
  },
  {
   "cell_type": "code",
   "execution_count": 19,
   "metadata": {
    "id": "M85a5qNt3E2y"
   },
   "outputs": [
    {
     "data": {
      "text/html": [
       "<div>\n",
       "<style scoped>\n",
       "    .dataframe tbody tr th:only-of-type {\n",
       "        vertical-align: middle;\n",
       "    }\n",
       "\n",
       "    .dataframe tbody tr th {\n",
       "        vertical-align: top;\n",
       "    }\n",
       "\n",
       "    .dataframe thead th {\n",
       "        text-align: right;\n",
       "    }\n",
       "</style>\n",
       "<table border=\"1\" class=\"dataframe\">\n",
       "  <thead>\n",
       "    <tr style=\"text-align: right;\">\n",
       "      <th></th>\n",
       "      <th>UF</th>\n",
       "      <th>Sexo</th>\n",
       "      <th>Idade</th>\n",
       "      <th>Cor</th>\n",
       "      <th>Anos de Estudo</th>\n",
       "      <th>Renda</th>\n",
       "      <th>Altura</th>\n",
       "      <th>faixa_etaria</th>\n",
       "      <th>faixa_anos_de_estudos</th>\n",
       "    </tr>\n",
       "  </thead>\n",
       "  <tbody>\n",
       "    <tr>\n",
       "      <th>0</th>\n",
       "      <td>11</td>\n",
       "      <td>masculino</td>\n",
       "      <td>23</td>\n",
       "      <td>parda</td>\n",
       "      <td>12</td>\n",
       "      <td>800</td>\n",
       "      <td>1.603808</td>\n",
       "      <td>21 a 35 anos</td>\n",
       "      <td>10 a 12 anos</td>\n",
       "    </tr>\n",
       "    <tr>\n",
       "      <th>1</th>\n",
       "      <td>11</td>\n",
       "      <td>feminino</td>\n",
       "      <td>23</td>\n",
       "      <td>branca</td>\n",
       "      <td>12</td>\n",
       "      <td>1150</td>\n",
       "      <td>1.739790</td>\n",
       "      <td>21 a 35 anos</td>\n",
       "      <td>10 a 12 anos</td>\n",
       "    </tr>\n",
       "    <tr>\n",
       "      <th>2</th>\n",
       "      <td>11</td>\n",
       "      <td>feminino</td>\n",
       "      <td>35</td>\n",
       "      <td>parda</td>\n",
       "      <td>15</td>\n",
       "      <td>880</td>\n",
       "      <td>1.760444</td>\n",
       "      <td>36 a 50 anos</td>\n",
       "      <td>13 anos ou mais</td>\n",
       "    </tr>\n",
       "    <tr>\n",
       "      <th>3</th>\n",
       "      <td>11</td>\n",
       "      <td>masculino</td>\n",
       "      <td>46</td>\n",
       "      <td>branca</td>\n",
       "      <td>6</td>\n",
       "      <td>3500</td>\n",
       "      <td>1.783158</td>\n",
       "      <td>36 a 50 anos</td>\n",
       "      <td>7 a 10 anos</td>\n",
       "    </tr>\n",
       "    <tr>\n",
       "      <th>4</th>\n",
       "      <td>11</td>\n",
       "      <td>feminino</td>\n",
       "      <td>47</td>\n",
       "      <td>parda</td>\n",
       "      <td>9</td>\n",
       "      <td>150</td>\n",
       "      <td>1.690631</td>\n",
       "      <td>36 a 50 anos</td>\n",
       "      <td>10 a 12 anos</td>\n",
       "    </tr>\n",
       "  </tbody>\n",
       "</table>\n",
       "</div>"
      ],
      "text/plain": [
       "   UF       Sexo  Idade     Cor  Anos de Estudo  Renda    Altura  \\\n",
       "0  11  masculino     23   parda              12    800  1.603808   \n",
       "1  11   feminino     23  branca              12   1150  1.739790   \n",
       "2  11   feminino     35   parda              15    880  1.760444   \n",
       "3  11  masculino     46  branca               6   3500  1.783158   \n",
       "4  11   feminino     47   parda               9    150  1.690631   \n",
       "\n",
       "   faixa_etaria faixa_anos_de_estudos  \n",
       "0  21 a 35 anos          10 a 12 anos  \n",
       "1  21 a 35 anos          10 a 12 anos  \n",
       "2  36 a 50 anos       13 anos ou mais  \n",
       "3  36 a 50 anos           7 a 10 anos  \n",
       "4  36 a 50 anos          10 a 12 anos  "
      ]
     },
     "execution_count": 19,
     "metadata": {},
     "output_type": "execute_result"
    }
   ],
   "source": [
    "df.head()"
   ]
  },
  {
   "cell_type": "code",
   "execution_count": 24,
   "metadata": {},
   "outputs": [
    {
     "data": {
      "text/html": [
       "<div>\n",
       "<style scoped>\n",
       "    .dataframe tbody tr th:only-of-type {\n",
       "        vertical-align: middle;\n",
       "    }\n",
       "\n",
       "    .dataframe tbody tr th {\n",
       "        vertical-align: top;\n",
       "    }\n",
       "\n",
       "    .dataframe thead th {\n",
       "        text-align: right;\n",
       "    }\n",
       "</style>\n",
       "<table border=\"1\" class=\"dataframe\">\n",
       "  <thead>\n",
       "    <tr style=\"text-align: right;\">\n",
       "      <th></th>\n",
       "      <th></th>\n",
       "      <th></th>\n",
       "      <th>count</th>\n",
       "    </tr>\n",
       "    <tr>\n",
       "      <th>Cor</th>\n",
       "      <th>Sexo</th>\n",
       "      <th>faixa_anos_de_estudos</th>\n",
       "      <th></th>\n",
       "    </tr>\n",
       "  </thead>\n",
       "  <tbody>\n",
       "    <tr>\n",
       "      <th rowspan=\"10\" valign=\"top\">indígena</th>\n",
       "      <th rowspan=\"5\" valign=\"top\">feminino</th>\n",
       "      <th>10 a 12 anos</th>\n",
       "      <td>42</td>\n",
       "    </tr>\n",
       "    <tr>\n",
       "      <th>13 anos ou mais</th>\n",
       "      <td>20</td>\n",
       "    </tr>\n",
       "    <tr>\n",
       "      <th>3 a 6 anos</th>\n",
       "      <td>16</td>\n",
       "    </tr>\n",
       "    <tr>\n",
       "      <th>7 a 10 anos</th>\n",
       "      <td>12</td>\n",
       "    </tr>\n",
       "    <tr>\n",
       "      <th>2 anos ou menos</th>\n",
       "      <td>11</td>\n",
       "    </tr>\n",
       "    <tr>\n",
       "      <th rowspan=\"5\" valign=\"top\">masculino</th>\n",
       "      <th>10 a 12 anos</th>\n",
       "      <td>113</td>\n",
       "    </tr>\n",
       "    <tr>\n",
       "      <th>3 a 6 anos</th>\n",
       "      <td>45</td>\n",
       "    </tr>\n",
       "    <tr>\n",
       "      <th>7 a 10 anos</th>\n",
       "      <td>39</td>\n",
       "    </tr>\n",
       "    <tr>\n",
       "      <th>2 anos ou menos</th>\n",
       "      <td>38</td>\n",
       "    </tr>\n",
       "    <tr>\n",
       "      <th>13 anos ou mais</th>\n",
       "      <td>21</td>\n",
       "    </tr>\n",
       "  </tbody>\n",
       "</table>\n",
       "</div>"
      ],
      "text/plain": [
       "                                          count\n",
       "Cor      Sexo      faixa_anos_de_estudos       \n",
       "indígena feminino  10 a 12 anos              42\n",
       "                   13 anos ou mais           20\n",
       "                   3 a 6 anos                16\n",
       "                   7 a 10 anos               12\n",
       "                   2 anos ou menos           11\n",
       "         masculino 10 a 12 anos             113\n",
       "                   3 a 6 anos                45\n",
       "                   7 a 10 anos               39\n",
       "                   2 anos ou menos           38\n",
       "                   13 anos ou mais           21"
      ]
     },
     "execution_count": 24,
     "metadata": {},
     "output_type": "execute_result"
    }
   ],
   "source": [
    "df_indigena = df[['Cor','Sexo','faixa_anos_de_estudos']]\n",
    "\n",
    "# cores_desejadas = ['preta', 'branca']\n",
    "df_indigena = df_indigena[df_indigena['Cor'].isin(['indígena'])]\n",
    "# novo_df\n",
    "\n",
    "pd.DataFrame(df_indigena.groupby(['Cor','Sexo'])['faixa_anos_de_estudos'].value_counts())"
   ]
  },
  {
   "cell_type": "markdown",
   "metadata": {
    "id": "hgqYfhU33FtF"
   },
   "source": [
    "Qual a média de anos de estudo entre brancos e negros?\n"
   ]
  },
  {
   "cell_type": "code",
   "execution_count": 28,
   "metadata": {
    "id": "EK9X8wTZ3UdS"
   },
   "outputs": [
    {
     "data": {
      "text/html": [
       "<div>\n",
       "<style scoped>\n",
       "    .dataframe tbody tr th:only-of-type {\n",
       "        vertical-align: middle;\n",
       "    }\n",
       "\n",
       "    .dataframe tbody tr th {\n",
       "        vertical-align: top;\n",
       "    }\n",
       "\n",
       "    .dataframe thead th {\n",
       "        text-align: right;\n",
       "    }\n",
       "</style>\n",
       "<table border=\"1\" class=\"dataframe\">\n",
       "  <thead>\n",
       "    <tr style=\"text-align: right;\">\n",
       "      <th></th>\n",
       "      <th></th>\n",
       "      <th>Anos de Estudo</th>\n",
       "    </tr>\n",
       "    <tr>\n",
       "      <th>Cor</th>\n",
       "      <th>Sexo</th>\n",
       "      <th></th>\n",
       "    </tr>\n",
       "  </thead>\n",
       "  <tbody>\n",
       "    <tr>\n",
       "      <th rowspan=\"2\" valign=\"top\">branca</th>\n",
       "      <th>feminino</th>\n",
       "      <td>11.297578</td>\n",
       "    </tr>\n",
       "    <tr>\n",
       "      <th>masculino</th>\n",
       "      <td>10.140353</td>\n",
       "    </tr>\n",
       "    <tr>\n",
       "      <th rowspan=\"2\" valign=\"top\">preta</th>\n",
       "      <th>feminino</th>\n",
       "      <td>9.522326</td>\n",
       "    </tr>\n",
       "    <tr>\n",
       "      <th>masculino</th>\n",
       "      <td>8.514540</td>\n",
       "    </tr>\n",
       "  </tbody>\n",
       "</table>\n",
       "</div>"
      ],
      "text/plain": [
       "                  Anos de Estudo\n",
       "Cor    Sexo                     \n",
       "branca feminino        11.297578\n",
       "       masculino       10.140353\n",
       "preta  feminino         9.522326\n",
       "       masculino        8.514540"
      ]
     },
     "execution_count": 28,
     "metadata": {},
     "output_type": "execute_result"
    }
   ],
   "source": [
    "df_pb = df[['Cor','Sexo','Anos de Estudo']]\n",
    "\n",
    "cores = ['preta', 'branca']\n",
    "df_pb = df_pb[df_pb['Cor'].isin(cores)]\n",
    "# novo_df\n",
    "\n",
    "pd.DataFrame(df_pb.groupby(['Cor','Sexo'])['Anos de Estudo'].mean())"
   ]
  },
  {
   "attachments": {},
   "cell_type": "markdown",
   "metadata": {
    "id": "_ZjroKKB3WBx"
   },
   "source": [
    "Qual a média de anos de estudo e de renda para mulheres brancas, e para mulheres negras?\n",
    "\n"
   ]
  },
  {
   "cell_type": "code",
   "execution_count": 30,
   "metadata": {},
   "outputs": [
    {
     "data": {
      "text/html": [
       "<div>\n",
       "<style scoped>\n",
       "    .dataframe tbody tr th:only-of-type {\n",
       "        vertical-align: middle;\n",
       "    }\n",
       "\n",
       "    .dataframe tbody tr th {\n",
       "        vertical-align: top;\n",
       "    }\n",
       "\n",
       "    .dataframe thead th {\n",
       "        text-align: right;\n",
       "    }\n",
       "</style>\n",
       "<table border=\"1\" class=\"dataframe\">\n",
       "  <thead>\n",
       "    <tr style=\"text-align: right;\">\n",
       "      <th></th>\n",
       "      <th>UF</th>\n",
       "      <th>Sexo</th>\n",
       "      <th>Idade</th>\n",
       "      <th>Cor</th>\n",
       "      <th>Anos de Estudo</th>\n",
       "      <th>Renda</th>\n",
       "      <th>Altura</th>\n",
       "      <th>faixa_etaria</th>\n",
       "      <th>faixa_anos_de_estudos</th>\n",
       "    </tr>\n",
       "  </thead>\n",
       "  <tbody>\n",
       "    <tr>\n",
       "      <th>68173</th>\n",
       "      <td>50</td>\n",
       "      <td>masculino</td>\n",
       "      <td>37</td>\n",
       "      <td>branca</td>\n",
       "      <td>11</td>\n",
       "      <td>3000</td>\n",
       "      <td>1.740158</td>\n",
       "      <td>36 a 50 anos</td>\n",
       "      <td>10 a 12 anos</td>\n",
       "    </tr>\n",
       "    <tr>\n",
       "      <th>64413</th>\n",
       "      <td>43</td>\n",
       "      <td>feminino</td>\n",
       "      <td>41</td>\n",
       "      <td>parda</td>\n",
       "      <td>9</td>\n",
       "      <td>788</td>\n",
       "      <td>1.763581</td>\n",
       "      <td>36 a 50 anos</td>\n",
       "      <td>10 a 12 anos</td>\n",
       "    </tr>\n",
       "    <tr>\n",
       "      <th>41128</th>\n",
       "      <td>33</td>\n",
       "      <td>masculino</td>\n",
       "      <td>64</td>\n",
       "      <td>branca</td>\n",
       "      <td>12</td>\n",
       "      <td>3500</td>\n",
       "      <td>1.731615</td>\n",
       "      <td>51 a 65 anos</td>\n",
       "      <td>10 a 12 anos</td>\n",
       "    </tr>\n",
       "  </tbody>\n",
       "</table>\n",
       "</div>"
      ],
      "text/plain": [
       "       UF       Sexo  Idade     Cor  Anos de Estudo  Renda    Altura  \\\n",
       "68173  50  masculino     37  branca              11   3000  1.740158   \n",
       "64413  43   feminino     41   parda               9    788  1.763581   \n",
       "41128  33  masculino     64  branca              12   3500  1.731615   \n",
       "\n",
       "       faixa_etaria faixa_anos_de_estudos  \n",
       "68173  36 a 50 anos          10 a 12 anos  \n",
       "64413  36 a 50 anos          10 a 12 anos  \n",
       "41128  51 a 65 anos          10 a 12 anos  "
      ]
     },
     "execution_count": 30,
     "metadata": {},
     "output_type": "execute_result"
    }
   ],
   "source": [
    "df.sample(3)"
   ]
  },
  {
   "cell_type": "code",
   "execution_count": 38,
   "metadata": {},
   "outputs": [],
   "source": [
    "mulheres = df[['Sexo','Cor', 'Anos de Estudo', 'Renda']]\n",
    "\n",
    "cores = ['preta', 'branca']\n",
    "mulheres = mulheres[mulheres['Cor'].isin(cores)]\n",
    "sexo = ['feminino']\n",
    "mulheres = mulheres[mulheres['Sexo'].isin(sexo)]"
   ]
  },
  {
   "cell_type": "code",
   "execution_count": 44,
   "metadata": {},
   "outputs": [
    {
     "data": {
      "text/html": [
       "<div>\n",
       "<style scoped>\n",
       "    .dataframe tbody tr th:only-of-type {\n",
       "        vertical-align: middle;\n",
       "    }\n",
       "\n",
       "    .dataframe tbody tr th {\n",
       "        vertical-align: top;\n",
       "    }\n",
       "\n",
       "    .dataframe thead th {\n",
       "        text-align: right;\n",
       "    }\n",
       "</style>\n",
       "<table border=\"1\" class=\"dataframe\">\n",
       "  <thead>\n",
       "    <tr style=\"text-align: right;\">\n",
       "      <th></th>\n",
       "      <th>Sexo</th>\n",
       "      <th>Cor</th>\n",
       "      <th>Anos de Estudo</th>\n",
       "      <th>Renda</th>\n",
       "    </tr>\n",
       "  </thead>\n",
       "  <tbody>\n",
       "    <tr>\n",
       "      <th>1</th>\n",
       "      <td>feminino</td>\n",
       "      <td>branca</td>\n",
       "      <td>12</td>\n",
       "      <td>1150</td>\n",
       "    </tr>\n",
       "    <tr>\n",
       "      <th>8</th>\n",
       "      <td>feminino</td>\n",
       "      <td>preta</td>\n",
       "      <td>14</td>\n",
       "      <td>1800</td>\n",
       "    </tr>\n",
       "    <tr>\n",
       "      <th>12</th>\n",
       "      <td>feminino</td>\n",
       "      <td>branca</td>\n",
       "      <td>6</td>\n",
       "      <td>1200</td>\n",
       "    </tr>\n",
       "  </tbody>\n",
       "</table>\n",
       "</div>"
      ],
      "text/plain": [
       "        Sexo     Cor  Anos de Estudo  Renda\n",
       "1   feminino  branca              12   1150\n",
       "8   feminino   preta              14   1800\n",
       "12  feminino  branca               6   1200"
      ]
     },
     "execution_count": 44,
     "metadata": {},
     "output_type": "execute_result"
    }
   ],
   "source": [
    "mulheres.head(3)"
   ]
  },
  {
   "cell_type": "code",
   "execution_count": 56,
   "metadata": {},
   "outputs": [],
   "source": [
    "media_estudos = pd.DataFrame(mulheres.groupby(['Cor','Sexo'])['Anos de Estudo'].mean())"
   ]
  },
  {
   "cell_type": "code",
   "execution_count": 57,
   "metadata": {},
   "outputs": [],
   "source": [
    "media_renda = pd.DataFrame(mulheres.groupby(['Cor','Sexo'])['Renda'].mean())"
   ]
  },
  {
   "cell_type": "code",
   "execution_count": 58,
   "metadata": {},
   "outputs": [
    {
     "data": {
      "text/html": [
       "<div>\n",
       "<style scoped>\n",
       "    .dataframe tbody tr th:only-of-type {\n",
       "        vertical-align: middle;\n",
       "    }\n",
       "\n",
       "    .dataframe tbody tr th {\n",
       "        vertical-align: top;\n",
       "    }\n",
       "\n",
       "    .dataframe thead th {\n",
       "        text-align: right;\n",
       "    }\n",
       "</style>\n",
       "<table border=\"1\" class=\"dataframe\">\n",
       "  <thead>\n",
       "    <tr style=\"text-align: right;\">\n",
       "      <th></th>\n",
       "      <th></th>\n",
       "      <th>Renda</th>\n",
       "      <th>Anos de Estudo</th>\n",
       "    </tr>\n",
       "    <tr>\n",
       "      <th>Cor</th>\n",
       "      <th>Sexo</th>\n",
       "      <th></th>\n",
       "      <th></th>\n",
       "    </tr>\n",
       "  </thead>\n",
       "  <tbody>\n",
       "    <tr>\n",
       "      <th>branca</th>\n",
       "      <th>feminino</th>\n",
       "      <td>2109.86675</td>\n",
       "      <td>11.297578</td>\n",
       "    </tr>\n",
       "    <tr>\n",
       "      <th>preta</th>\n",
       "      <th>feminino</th>\n",
       "      <td>1134.59640</td>\n",
       "      <td>9.522326</td>\n",
       "    </tr>\n",
       "  </tbody>\n",
       "</table>\n",
       "</div>"
      ],
      "text/plain": [
       "                      Renda  Anos de Estudo\n",
       "Cor    Sexo                                \n",
       "branca feminino  2109.86675       11.297578\n",
       "preta  feminino  1134.59640        9.522326"
      ]
     },
     "execution_count": 58,
     "metadata": {},
     "output_type": "execute_result"
    }
   ],
   "source": [
    "media_renda.join(media_estudos)"
   ]
  },
  {
   "cell_type": "markdown",
   "metadata": {
    "id": "sG2Kkkrd3X5V"
   },
   "source": [
    " Qual é a UF com maior média de escolaridade e qual a UF com maior média de renda?"
   ]
  },
  {
   "cell_type": "code",
   "execution_count": 59,
   "metadata": {
    "id": "imgwaOGk3YNq"
   },
   "outputs": [
    {
     "data": {
      "text/html": [
       "<div>\n",
       "<style scoped>\n",
       "    .dataframe tbody tr th:only-of-type {\n",
       "        vertical-align: middle;\n",
       "    }\n",
       "\n",
       "    .dataframe tbody tr th {\n",
       "        vertical-align: top;\n",
       "    }\n",
       "\n",
       "    .dataframe thead th {\n",
       "        text-align: right;\n",
       "    }\n",
       "</style>\n",
       "<table border=\"1\" class=\"dataframe\">\n",
       "  <thead>\n",
       "    <tr style=\"text-align: right;\">\n",
       "      <th></th>\n",
       "      <th>UF</th>\n",
       "      <th>Sexo</th>\n",
       "      <th>Idade</th>\n",
       "      <th>Cor</th>\n",
       "      <th>Anos de Estudo</th>\n",
       "      <th>Renda</th>\n",
       "      <th>Altura</th>\n",
       "      <th>faixa_etaria</th>\n",
       "      <th>faixa_anos_de_estudos</th>\n",
       "    </tr>\n",
       "  </thead>\n",
       "  <tbody>\n",
       "    <tr>\n",
       "      <th>12217</th>\n",
       "      <td>21</td>\n",
       "      <td>feminino</td>\n",
       "      <td>63</td>\n",
       "      <td>parda</td>\n",
       "      <td>8</td>\n",
       "      <td>0</td>\n",
       "      <td>1.834283</td>\n",
       "      <td>51 a 65 anos</td>\n",
       "      <td>7 a 10 anos</td>\n",
       "    </tr>\n",
       "    <tr>\n",
       "      <th>2520</th>\n",
       "      <td>13</td>\n",
       "      <td>masculino</td>\n",
       "      <td>62</td>\n",
       "      <td>parda</td>\n",
       "      <td>1</td>\n",
       "      <td>400</td>\n",
       "      <td>1.655181</td>\n",
       "      <td>51 a 65 anos</td>\n",
       "      <td>2 anos ou menos</td>\n",
       "    </tr>\n",
       "    <tr>\n",
       "      <th>21048</th>\n",
       "      <td>26</td>\n",
       "      <td>masculino</td>\n",
       "      <td>50</td>\n",
       "      <td>parda</td>\n",
       "      <td>12</td>\n",
       "      <td>1500</td>\n",
       "      <td>1.755129</td>\n",
       "      <td>51 a 65 anos</td>\n",
       "      <td>10 a 12 anos</td>\n",
       "    </tr>\n",
       "  </tbody>\n",
       "</table>\n",
       "</div>"
      ],
      "text/plain": [
       "       UF       Sexo  Idade    Cor  Anos de Estudo  Renda    Altura  \\\n",
       "12217  21   feminino     63  parda               8      0  1.834283   \n",
       "2520   13  masculino     62  parda               1    400  1.655181   \n",
       "21048  26  masculino     50  parda              12   1500  1.755129   \n",
       "\n",
       "       faixa_etaria faixa_anos_de_estudos  \n",
       "12217  51 a 65 anos           7 a 10 anos  \n",
       "2520   51 a 65 anos       2 anos ou menos  \n",
       "21048  51 a 65 anos          10 a 12 anos  "
      ]
     },
     "execution_count": 59,
     "metadata": {},
     "output_type": "execute_result"
    }
   ],
   "source": [
    "df.sample(3)"
   ]
  },
  {
   "cell_type": "code",
   "execution_count": 66,
   "metadata": {},
   "outputs": [
    {
     "data": {
      "text/plain": [
       "'O estado 53 (Distrito Federal) tem a maior média de renda, somando 4241.954722492697 reais.'"
      ]
     },
     "execution_count": 66,
     "metadata": {},
     "output_type": "execute_result"
    }
   ],
   "source": [
    "id_maior_renda = df.groupby('UF')['Renda'].mean().idxmax()\n",
    "valor_maior_renda = df.groupby('UF')['Renda'].mean().max()\n",
    "\n",
    "(f\"O estado {id_maior_renda} (Distrito Federal) tem a maior média de renda, somando {valor_maior_renda} reais.\")"
   ]
  },
  {
   "cell_type": "code",
   "execution_count": 68,
   "metadata": {},
   "outputs": [
    {
     "data": {
      "text/plain": [
       "'O estado 53 (Distrito Federal) tem a maior média de esolaridade, somando 11.910418695228822 anos.'"
      ]
     },
     "execution_count": 68,
     "metadata": {},
     "output_type": "execute_result"
    }
   ],
   "source": [
    "id_estado_escolaridade = df.groupby('UF')['Anos de Estudo'].mean().idxmax()\n",
    "media_escolaridade = df.groupby('UF')['Anos de Estudo'].mean().max()\n",
    "\n",
    "(f\"O estado {id_estado_escolaridade} (Distrito Federal) tem a maior média de esolaridade, somando {media_escolaridade} anos.\")"
   ]
  },
  {
   "cell_type": "markdown",
   "metadata": {
    "id": "72Oy_JJ_3Z7F"
   },
   "source": [
    "Elabore você uma pergunta sobre a base de dados e escreva o código para responder a pergunta."
   ]
  },
  {
   "cell_type": "markdown",
   "metadata": {
    "id": "YZFVy7UM3aPC"
   },
   "source": [
    "#### Pergunta Elaborada\n",
    "\n",
    "**Qual é a renda média de mulheres indígenas?**"
   ]
  },
  {
   "cell_type": "code",
   "execution_count": 73,
   "metadata": {},
   "outputs": [
    {
     "data": {
      "text/html": [
       "<div>\n",
       "<style scoped>\n",
       "    .dataframe tbody tr th:only-of-type {\n",
       "        vertical-align: middle;\n",
       "    }\n",
       "\n",
       "    .dataframe tbody tr th {\n",
       "        vertical-align: top;\n",
       "    }\n",
       "\n",
       "    .dataframe thead th {\n",
       "        text-align: right;\n",
       "    }\n",
       "</style>\n",
       "<table border=\"1\" class=\"dataframe\">\n",
       "  <thead>\n",
       "    <tr style=\"text-align: right;\">\n",
       "      <th></th>\n",
       "      <th>Sexo</th>\n",
       "      <th>Cor</th>\n",
       "      <th>Renda</th>\n",
       "    </tr>\n",
       "  </thead>\n",
       "  <tbody>\n",
       "    <tr>\n",
       "      <th>901</th>\n",
       "      <td>feminino</td>\n",
       "      <td>indígena</td>\n",
       "      <td>900</td>\n",
       "    </tr>\n",
       "    <tr>\n",
       "      <th>1601</th>\n",
       "      <td>feminino</td>\n",
       "      <td>indígena</td>\n",
       "      <td>0</td>\n",
       "    </tr>\n",
       "    <tr>\n",
       "      <th>2283</th>\n",
       "      <td>feminino</td>\n",
       "      <td>indígena</td>\n",
       "      <td>500</td>\n",
       "    </tr>\n",
       "  </tbody>\n",
       "</table>\n",
       "</div>"
      ],
      "text/plain": [
       "          Sexo       Cor  Renda\n",
       "901   feminino  indígena    900\n",
       "1601  feminino  indígena      0\n",
       "2283  feminino  indígena    500"
      ]
     },
     "execution_count": 73,
     "metadata": {},
     "output_type": "execute_result"
    }
   ],
   "source": [
    "mulheres_indigenas = df[['Sexo','Cor', 'Renda']]\n",
    "\n",
    "cores = ['indígena']\n",
    "mulheres_indigenas = mulheres_indigenas[mulheres_indigenas['Cor'].isin(cores)]\n",
    "sexo = ['feminino']\n",
    "mulheres_indigenas = mulheres_indigenas[mulheres_indigenas['Sexo'].isin(sexo)]\n",
    "mulheres_indigenas.head(3)"
   ]
  },
  {
   "cell_type": "code",
   "execution_count": 76,
   "metadata": {},
   "outputs": [
    {
     "name": "stdout",
     "output_type": "stream",
     "text": [
      "A renda média de mulheres indígenas é: 2464.3861386138615.\n"
     ]
    }
   ],
   "source": [
    "print(f'A renda média de mulheres indígenas é: {mulheres_indigenas[\"Renda\"].mean()}.')"
   ]
  },
  {
   "cell_type": "code",
   "execution_count": null,
   "metadata": {},
   "outputs": [],
   "source": []
  }
 ],
 "metadata": {
  "colab": {
   "provenance": []
  },
  "kernelspec": {
   "display_name": "Python 3 (ipykernel)",
   "language": "python",
   "name": "python3"
  },
  "language_info": {
   "codemirror_mode": {
    "name": "ipython",
    "version": 3
   },
   "file_extension": ".py",
   "mimetype": "text/x-python",
   "name": "python",
   "nbconvert_exporter": "python",
   "pygments_lexer": "ipython3",
   "version": "3.11.4"
  }
 },
 "nbformat": 4,
 "nbformat_minor": 4
}
