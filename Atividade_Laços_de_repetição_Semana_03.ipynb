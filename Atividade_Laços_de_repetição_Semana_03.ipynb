{
  "nbformat": 4,
  "nbformat_minor": 0,
  "metadata": {
    "colab": {
      "provenance": []
    },
    "kernelspec": {
      "name": "python3",
      "display_name": "Python 3"
    },
    "language_info": {
      "name": "python"
    }
  },
  "cells": [
    {
      "cell_type": "markdown",
      "source": [
        "![Growdev](https://www.growdev.com.br/assets/images/logo_growdev.png)"
      ],
      "metadata": {
        "id": "v8pFWwviib2C"
      }
    },
    {
      "cell_type": "markdown",
      "source": [
        "![Formação Engenharia de Dados](https://d335luupugsy2.cloudfront.net/cms/files/524558/1707226566/$occu5m8t1op)"
      ],
      "metadata": {
        "id": "6Tkl4_HxifXZ"
      }
    },
    {
      "cell_type": "markdown",
      "source": [
        "Este material tem como objetivo incentivar a prática dos conteúdos estudados até o momento, e a pesquisa. Tenha em consideração que o exercício foi pensado para incentivar a prática dos conteúdos estudados até então, porém aprender a pesquisar faz parte do processo de aprendizagem.\n",
        "\n",
        "Fique tranquilo, faça os exercícios com calma, e boa prática!\n"
      ],
      "metadata": {
        "id": "ty7Bzyl1i9bN"
      }
    },
    {
      "cell_type": "markdown",
      "source": [
        "#Orientações:\n",
        "\n",
        " - Faça uma copia deste arquivo\n",
        " - Após concluir os exercicios, suba seu exercicio para o GitHub e compartilhe o link no **google** Classroom\n"
      ],
      "metadata": {
        "id": "DU5-yCQwjx3V"
      }
    },
    {
      "cell_type": "markdown",
      "source": [
        "#Exercícios"
      ],
      "metadata": {
        "id": "EzT810tnlmfE"
      }
    },
    {
      "cell_type": "markdown",
      "source": [
        "\n",
        "1- Escrever um programa que lê 5 valores para a, um de cada vez, e conta quantos destes valores são negativos, escrevendo esta informação."
      ],
      "metadata": {
        "id": "p62-CTXgvn5E"
      }
    },
    {
      "cell_type": "code",
      "source": [
        "i = 0\n",
        "a = 0\n",
        "negativo = 0\n",
        "\n",
        "for i in range(5):\n",
        "  i += 1\n",
        "  a = float(input('Escreva um valor positivo ou negativo: '))\n",
        "  if a < 0:\n",
        "    negativo += 1\n",
        "    print(f'\\nA quantidade de números negativos inseridos é: {negativo}.\\n')\n",
        "\n",
        "print('Fim do programa')\n"
      ],
      "metadata": {
        "id": "gU8NkXNYvmZv",
        "colab": {
          "base_uri": "https://localhost:8080/"
        },
        "outputId": "450e5c92-fda9-4acc-f0fe-1d2f86e8d9a6"
      },
      "execution_count": null,
      "outputs": [
        {
          "output_type": "stream",
          "name": "stdout",
          "text": [
            "Escreva um valor positivo ou negativo: 1\n",
            "Escreva um valor positivo ou negativo: 2\n",
            "Escreva um valor positivo ou negativo: -3\n",
            "\n",
            "A quantidade de números negativos inseridos é: 1.\n",
            "\n",
            "Escreva um valor positivo ou negativo: 3\n",
            "Escreva um valor positivo ou negativo: -9\n",
            "\n",
            "A quantidade de números negativos inseridos é: 2.\n",
            "\n",
            "Fim do programa\n"
          ]
        }
      ]
    },
    {
      "cell_type": "markdown",
      "source": [],
      "metadata": {
        "id": "_ST1Z4wkjMzJ"
      }
    },
    {
      "cell_type": "markdown",
      "source": [
        "2 - A prefeitura de uma cidade fez uma pesquisa entre seus habitantes, coletando dados sobre o salário e número de filhos. A prefeitura deseja saber:\n",
        "\n",
        "a) média do salário da população;\n",
        "\n",
        "b) média do número de filhos;\n",
        "\n",
        "c) maior salário;\n",
        "\n",
        "d) percentual de pessoas com salário até R$2000,00.\n",
        "\n",
        "Escreva um programa que receba as informações necessárias de 5 pessoas conforme a descrição e responda às questões a, b, c e d anteriores.\n"
      ],
      "metadata": {
        "id": "59g_B9yRvqYS"
      }
    },
    {
      "cell_type": "code",
      "source": [
        "i = 0\n",
        "soma_filhos = 0\n",
        "while i < 5:\n",
        "  qtd_filhos = int(input(\"Quantos filhos você tem? \"))\n",
        "  soma_filhos += qtd_filhos\n",
        "  i += 1\n",
        "media = soma_filhos/i\n",
        "\n",
        "contador = 0\n",
        "soma_salarios = 0\n",
        "salario_2000 = 0\n",
        "maior_salario = 0\n",
        "\n",
        "while contador < 5:\n",
        "    contador += 1\n",
        "    valor_salario = float(input(\"Qual é o seu salário? R$ \"))\n",
        "\n",
        "    soma_salarios += valor_salario\n",
        "\n",
        "    if valor_salario <= 2000:\n",
        "        salario_2000 += 1\n",
        "        percentagem = (salario_2000 / contador) * 100\n",
        "\n",
        "    if valor_salario > maior_salario:\n",
        "        maior_salario = valor_salario\n",
        "\n",
        "media_salarios = soma_salarios / 5\n",
        "\n",
        "print(f\"\\nMédia do salário da população: {media_salarios}.\")\n",
        "print(f'A média do números de filhos é: {media}.')\n",
        "print(f\"O maior salário: {maior_salario}.\")\n",
        "print(f'Porcentagem de pessoas com salário até R$2000,00: {percentagem}%')\n",
        "\n"
      ],
      "metadata": {
        "id": "9hJMpgRzWc6q",
        "outputId": "dffc4a80-87bf-438d-9900-eedd6ed5072f",
        "colab": {
          "base_uri": "https://localhost:8080/"
        }
      },
      "execution_count": null,
      "outputs": [
        {
          "output_type": "stream",
          "name": "stdout",
          "text": [
            "Quantos filhos você tem? 2\n",
            "Quantos filhos você tem? 3\n",
            "Quantos filhos você tem? 4\n",
            "Quantos filhos você tem? 1\n",
            "Quantos filhos você tem? 1\n",
            "Qual é o seu salário? R$ 1\n",
            "Qual é o seu salário? R$ 1\n",
            "Qual é o seu salário? R$ 2001\n",
            "Qual é o seu salário? R$ 1\n",
            "Qual é o seu salário? R$ 1\n",
            "\n",
            "Média do salário da população: 401.0.\n",
            "A média do números de filhos é: 2.2.\n",
            "O maior salário: 2001.0.\n",
            "Porcentagem de pessoas com salário até R$2000,00: 80.0%\n"
          ]
        }
      ]
    },
    {
      "cell_type": "code",
      "source": [],
      "metadata": {
        "id": "S0zv42K8U0kH"
      },
      "execution_count": null,
      "outputs": []
    },
    {
      "cell_type": "markdown",
      "source": [
        "3 - Chico tem 1,50 metro e cresce 2 centímetros por ano, enquanto Zé tem 1,10 metro e cresce 3 centímetros por ano. Construa um programa que calcule e imprima quantos anos serão necessários para que Zé seja maior que Chico."
      ],
      "metadata": {
        "id": "V-7kNtvtwDN1"
      }
    },
    {
      "cell_type": "code",
      "source": [
        "chico = 150\n",
        "ze = 110\n",
        "\n",
        "i = 0\n",
        "\n",
        "while ze <= chico:\n",
        "  chico += 2\n",
        "  ze += 3\n",
        "  i += 1\n",
        "\n",
        "print(f'Chico: {chico/100} metros e Zé: {ze/100} metros. Anos: {i}')\n"
      ],
      "metadata": {
        "id": "Xlx4kqLpwE4L",
        "outputId": "58d29f79-c7cd-46c8-c870-fa5ac18fb793",
        "colab": {
          "base_uri": "https://localhost:8080/"
        }
      },
      "execution_count": null,
      "outputs": [
        {
          "output_type": "stream",
          "name": "stdout",
          "text": [
            "Chico: 2.32 metros e Zé: 2.33 metros. Anos: 41\n"
          ]
        }
      ]
    },
    {
      "cell_type": "markdown",
      "source": [
        "4 - Em uma eleição presidencial existem dois candidatos. Os votos são informados através de códigos. Os dados utilizados para a contagem dos votos obedecem à seguinte codificação:  \n",
        "\n",
        "1,2 = voto para os respectivos candidatos\n",
        "\n",
        "3 = voto nulo\n",
        "\n",
        "4 = voto em branco;\n",
        "\n",
        "Elabore um programa que leia o código de votação de 5 candidatos. Calcule e escreva:\n",
        "total de votos para cada candidato\n",
        "total de votos nulos\n",
        "total de votos em branco\n"
      ],
      "metadata": {
        "id": "BU7x-lumwGRO"
      }
    },
    {
      "cell_type": "code",
      "source": [
        "candidato_1 = 0\n",
        "candidato_2 = 0\n",
        "voto_nulo = 0\n",
        "voto_bco = 0\n",
        "\n",
        "i = 0\n",
        "\n",
        "while i < 5:\n",
        "  voto = int(input('Qual seu voto? '))\n",
        "  if voto == 1:\n",
        "    candidato_1 += 1\n",
        "  elif voto == 2:\n",
        "    candidato_2 += 1\n",
        "  elif voto == 3:\n",
        "    voto_nulo += 1\n",
        "  else:\n",
        "    voto_bco += 4\n",
        "  i += 1\n",
        "\n",
        "print(f'- O candidato 1 teve {candidato_1} votos.\\n- O candidato 2 teve {candidato_2} votos.\\n- Houve {voto_nulo} votos nulos e {voto_bco} votos em branco.')"
      ],
      "metadata": {
        "id": "tnOkAb44wQo5",
        "outputId": "9b5c53a1-41e1-444d-f248-16aa16b99167",
        "colab": {
          "base_uri": "https://localhost:8080/"
        }
      },
      "execution_count": null,
      "outputs": [
        {
          "output_type": "stream",
          "name": "stdout",
          "text": [
            "Qual seu voto? 1\n",
            "Qual seu voto? 2\n",
            "Qual seu voto? 2\n",
            "Qual seu voto? 3\n",
            "Qual seu voto? 4\n",
            "- O candidato 1 teve 1 votos.\n",
            "- O candidato 2 teve 2 votos.\n",
            "- Houve 1 votos nulos e 4 votos em branco.\n"
          ]
        }
      ]
    },
    {
      "cell_type": "markdown",
      "source": [
        "5 - Escreva um programa que receba o nome de 10 pessoas e para cada pessoa, o lugar para o qual ela já viajou. Sendo que existem 3 possibilidades:\n",
        "\n",
        "Rio de Janeiro\n",
        "\n",
        "Bahia\n",
        "\n",
        "Minas Gerais\n",
        "\n",
        "Após, informar qual foi o destino mais visitado e qual o menos visitado.\n"
      ],
      "metadata": {
        "id": "oNyazyHPwzlo"
      }
    },
    {
      "cell_type": "code",
      "source": [
        "i = 0\n",
        "\n",
        "while i < 10:\n",
        "    nome = input('Escreva seu nome: ')\n",
        "    destino = input('Escreva o destino desejado: ')\n",
        "\n",
        "    if destino not in ['rio de janeiro', 'bahia', 'minas gerais']:\n",
        "        destino = input('Escolha entre as cidade do rio de janeiro, bahia e minhas gerais. Escreva o destino desejado: ')\n",
        "        print(f'Nome: {nome} e Destino: {destino}')\n",
        "    else:\n",
        "        print(f'Nome: {nome} e Destino: {destino}')\n",
        "        i += 1\n",
        "\n",
        "print('Pronto!')"
      ],
      "metadata": {
        "id": "FzTr2EY1w2Ey",
        "outputId": "2d4a983b-16f8-45d8-86de-91dbf82bf83b",
        "colab": {
          "base_uri": "https://localhost:8080/"
        }
      },
      "execution_count": null,
      "outputs": [
        {
          "output_type": "stream",
          "name": "stdout",
          "text": [
            "Escreva seu nome: lu\n",
            "Escreva o destino desejado: bahia\n",
            "Nome: lu e Destino: bahia\n",
            "Escreva seu nome: dri\n",
            "Escreva o destino desejado: porto\n",
            "Escolha entre as cidade do rio de janeiro, bahia e minhas gerais. Escreva o destino desejado: bahia\n",
            "Nome: dri e Destino: bahia\n",
            "Escreva seu nome: leo\n",
            "Escreva o destino desejado: minas gerais\n",
            "Nome: leo e Destino: minas gerais\n",
            "Escreva seu nome: ju\n",
            "Escreva o destino desejado: rio de janeiro\n",
            "Nome: ju e Destino: rio de janeiro\n",
            "Pronto!\n"
          ]
        }
      ]
    },
    {
      "cell_type": "markdown",
      "source": [
        "6 -  A série de Fibonacci é formada pela sequência 1,1,2,3,5,8,13,21,34,55,... Faça um programa capaz de gerar a série até o n−ésimo termo."
      ],
      "metadata": {
        "id": "HVJPsqTcw95-"
      }
    },
    {
      "cell_type": "code",
      "source": [],
      "metadata": {
        "id": "U5AgKDkLC5-x"
      },
      "execution_count": null,
      "outputs": []
    },
    {
      "cell_type": "markdown",
      "source": [
        "7 - Escreva um programa que conte em ordem reversa, de 25 a zero."
      ],
      "metadata": {
        "id": "DaF7vXEWxB6R"
      }
    },
    {
      "cell_type": "code",
      "source": [
        "numero = 26\n",
        "i = 0\n",
        "\n",
        "while i <= 25:\n",
        "  numero -= 1\n",
        "  print(numero)\n",
        "  i += 1\n",
        "\n",
        "print('Fim do Pgrama!')"
      ],
      "metadata": {
        "id": "2AYe_lX2xCdj",
        "colab": {
          "base_uri": "https://localhost:8080/"
        },
        "outputId": "b4665b26-f274-4631-f10c-420688175376"
      },
      "execution_count": null,
      "outputs": [
        {
          "output_type": "stream",
          "name": "stdout",
          "text": [
            "25\n",
            "24\n",
            "23\n",
            "22\n",
            "21\n",
            "20\n",
            "19\n",
            "18\n",
            "17\n",
            "16\n",
            "15\n",
            "14\n",
            "13\n",
            "12\n",
            "11\n",
            "10\n",
            "9\n",
            "8\n",
            "7\n",
            "6\n",
            "5\n",
            "4\n",
            "3\n",
            "2\n",
            "1\n",
            "0\n",
            "Fim do Pgrama!\n"
          ]
        }
      ]
    },
    {
      "cell_type": "markdown",
      "source": [
        "8 - Crie um programa para que retorne o somatório de todos os números entre 1 e um valor fornecido pelo usuário. Por exemplo, se o usuário fornecer o número 4, o computador deverá calcular o somatório 1+ 2 + 3 + 4 = 10."
      ],
      "metadata": {
        "id": "Oc2yjIGqxF3h"
      }
    },
    {
      "cell_type": "code",
      "source": [
        "numero = int(input(\"Digite um número: \"))\n",
        "\n",
        "soma = 0\n",
        "\n",
        "for i in range(1, numero + 1):\n",
        "    soma += i\n",
        "\n",
        "print(f'O somatório é: {soma}.')\n"
      ],
      "metadata": {
        "id": "m5gfIfomxGwe",
        "colab": {
          "base_uri": "https://localhost:8080/"
        },
        "outputId": "584d208c-bc85-4810-9266-4b67cc326424"
      },
      "execution_count": null,
      "outputs": [
        {
          "output_type": "stream",
          "name": "stdout",
          "text": [
            "Digite um número: 4\n",
            "O somatório é: 10.\n"
          ]
        }
      ]
    },
    {
      "cell_type": "code",
      "source": [],
      "metadata": {
        "id": "LKf4gvCmzzot"
      },
      "execution_count": null,
      "outputs": []
    },
    {
      "cell_type": "markdown",
      "source": [
        "9 - Escreva um programa que leia a idade e salário de 10 pessoas. Informe em seguida:\n",
        "Qual é a média de idade entre as pessoas?\n",
        "Quantas pessoas há por faixa etária, considerando:\n",
        "jovens < 18\n",
        "18 <= adultos < 60\n",
        "idosos >= 60\n",
        "Em seguida, mostre qual é a faixa etária que acumula o maior salário.\n"
      ],
      "metadata": {
        "id": "5D368hETyJQh"
      }
    },
    {
      "cell_type": "code",
      "source": [
        "soma_idades = 0\n",
        "contagem_jovens = 0\n",
        "contagem_adultos = 0\n",
        "contagem_idosos = 0\n",
        "maior_salario = 0\n",
        "faixa_maior_salario = ''\n",
        "\n",
        "for i in range(10):\n",
        "    idade = int(input(f\"Digite a idade da pessoa {i+1}: \"))\n",
        "    salario = float(input(f\"Digite o salário da pessoa {i+1}: \"))\n",
        "\n",
        "    soma_idades += idade\n",
        "\n",
        "    if idade < 18:\n",
        "        contagem_jovens += 1\n",
        "    elif idade < 60:\n",
        "        contagem_adultos += 1\n",
        "    else:\n",
        "        contagem_idosos += 1\n",
        "\n",
        "    if salario > maior_salario:\n",
        "        maior_salario = salario\n",
        "        if idade < 18:\n",
        "            faixa_maior_salario = \"jovem\"\n",
        "        elif idade < 60:\n",
        "            faixa_maior_salario = \"adulto\"\n",
        "        else:\n",
        "            faixa_maior_salario = \"idoso\"\n",
        "\n",
        "media_idade = soma_idades / 10\n",
        "\n",
        "print(f\"\\nA média de idade entre as pessoas é: {media_idade}\")\n",
        "print(\"Número de pessoas por faixa etária:\")\n",
        "print(f\"Jovens: {contagem_jovens}\")\n",
        "print(f\"Adultos: {contagem_adultos}\")\n",
        "print(f\"Idosos: {contagem_idosos}\")\n",
        "print(f\"A faixa etária que acumula o maior salário é: {faixa_maior_salario}\")\n"
      ],
      "metadata": {
        "id": "zZsS7JHm0UY6",
        "colab": {
          "base_uri": "https://localhost:8080/"
        },
        "outputId": "f9440448-ecdb-4f77-c519-62691b3be745"
      },
      "execution_count": 3,
      "outputs": [
        {
          "output_type": "stream",
          "name": "stdout",
          "text": [
            "Digite a idade da pessoa 1: 17\n",
            "Digite o salário da pessoa 1: 1800\n",
            "Digite a idade da pessoa 2: 60\n",
            "Digite o salário da pessoa 2: 5000\n",
            "Digite a idade da pessoa 3: 80\n",
            "Digite o salário da pessoa 3: 2000\n",
            "\n",
            "A média de idade entre as pessoas é: 15.7\n",
            "Número de pessoas por faixa etária:\n",
            "Jovens: 1\n",
            "Adultos: 0\n",
            "Idosos: 2\n",
            "A faixa etária que acumula o maior salário é: idoso\n"
          ]
        }
      ]
    },
    {
      "cell_type": "code",
      "source": [],
      "metadata": {
        "id": "NSlizdYi5C8f"
      },
      "execution_count": null,
      "outputs": []
    },
    {
      "cell_type": "markdown",
      "source": [
        "10 - Crie uma calculadora simples que realiza operações de adição, subtração, multiplicação, divisão e exponenciação. O programa deve continuar pedindo operações até que o usuário escolha sair."
      ],
      "metadata": {
        "id": "L4xlYJzdhZyV"
      }
    },
    {
      "cell_type": "code",
      "source": [
        "n1 = 2\n",
        "n2 = 4\n",
        "\n",
        "entrada = ''\n",
        "\n",
        "while entrada != 'x':\n",
        "  entrada = str(input('Escreva o símbolo da operação desejada ou \"x\" para sair: '))\n",
        "  if entrada == '+':\n",
        "    print(n1 + n2)\n",
        "\n",
        "  elif entrada == '-':\n",
        "    print(n1 - n2)\n",
        "\n",
        "  elif entrada == '*':\n",
        "    print(n1 * n2)\n",
        "\n",
        "  elif entrada == '/':\n",
        "    print(n1 / n2)\n",
        "\n",
        "  elif entrada == '^':\n",
        "    print(n1 ** n2)\n",
        "\n",
        "  elif entrada != '+' and entrada != '-' and entrada != '*' and entrada != '/' and entrada != '^':\n",
        "    entrada = str(input('Escreva o símbolo da operação desejada ou \"x\" para sair: '))\n",
        "\n",
        "print('Fim do Programa!')"
      ],
      "metadata": {
        "id": "t1GTUaOshazK",
        "colab": {
          "base_uri": "https://localhost:8080/"
        },
        "outputId": "b7ae48fc-ff68-4773-d5ed-8e9b2d20ee97"
      },
      "execution_count": null,
      "outputs": [
        {
          "output_type": "stream",
          "name": "stdout",
          "text": [
            "Escreva o símbolo da operação desejada ou \"x\" para sair: +\n",
            "6\n",
            "Escreva o símbolo da operação desejada ou \"x\" para sair: -\n",
            "-2\n",
            "Escreva o símbolo da operação desejada ou \"x\" para sair: *\n",
            "8\n",
            "Escreva o símbolo da operação desejada ou \"x\" para sair: /\n",
            "0.5\n",
            "Escreva o símbolo da operação desejada ou \"x\" para sair: ^\n",
            "16\n",
            "Escreva o símbolo da operação desejada ou \"x\" para sair: j\n",
            "Escreva o símbolo da operação desejada ou \"x\" para sair: x\n",
            "Fim do Programa!\n"
          ]
        }
      ]
    },
    {
      "cell_type": "code",
      "source": [],
      "metadata": {
        "id": "36Fy0yBb_N7e"
      },
      "execution_count": null,
      "outputs": []
    },
    {
      "cell_type": "markdown",
      "source": [
        "11 - Crie um jogo em que o computador escolha um número aleatório entre 1 e 100, e o jogador tenta adivinhá-lo. O programa deve dar dicas se o número é maior ou menor do que o número digitado pelo jogador. O jogo continua até que o jogador acerte o número."
      ],
      "metadata": {
        "id": "TvOVLvpYhohk"
      }
    },
    {
      "cell_type": "markdown",
      "source": [
        "Exemplo de saída:\n",
        "\n",
        "Bem-vindo ao jogo de adivinhação!\n",
        "\n",
        "Tente adivinhar o número entre 1 e 100.\n",
        "\n",
        "Digite sua tentativa: 50\n",
        "\n",
        "O número é menor.\n",
        "\n",
        "Digite sua tentativa: 75\n",
        "\n",
        "O número é maior.\n",
        "\n",
        "Digite sua tentativa: 63\n",
        "\n",
        "O número é menor.\n",
        "\n",
        "Digite sua tentativa: 68\n",
        "\n",
        "Parabéns! Você acertou o número 68 em 4 tentativas!"
      ],
      "metadata": {
        "id": "GMjNhBcxo3ks"
      }
    },
    {
      "cell_type": "code",
      "source": [],
      "metadata": {
        "id": "wD7WVTzdh3Tf"
      },
      "execution_count": null,
      "outputs": []
    },
    {
      "cell_type": "code",
      "source": [],
      "metadata": {
        "id": "GE_hlrG5CsEq"
      },
      "execution_count": null,
      "outputs": []
    },
    {
      "cell_type": "markdown",
      "source": [
        "12 - Escreva um programa que calcula o valor de um investimento após um número específico de anos, considerando juros compostos. O usuário deve fornecer o principal (valor inicial do investimento), a taxa de juros anual (em porcentagem) e o número de anos.\n",
        "\n",
        "A fórmula para calcular o valor de um investimento após n anos com juros compostos é:\n",
        "\n",
        "A=P×(1+r)^n\n",
        "\n",
        "\n",
        "Onde:\n",
        "\n",
        "\n",
        "A é o valor do investimento após n anos,\n",
        "\n",
        "P é o principal (valor inicial do investimento),\n",
        "\n",
        "r é a taxa de juros anual (em decimal), e\n",
        "\n",
        "n é o número de anos."
      ],
      "metadata": {
        "id": "528JJZodmafY"
      }
    },
    {
      "cell_type": "markdown",
      "source": [
        "\n",
        "Exemplo de saída:\n",
        "\n",
        "Digite o principal (R$): 1000\n",
        "\n",
        "Digite a taxa de juros anual (%): 5\n",
        "\n",
        "Digite o número de anos: 10\n",
        "\n",
        "O valor do investimento após 10 anos é: R$ 1628.89"
      ],
      "metadata": {
        "id": "-6opTpcXoxNw"
      }
    },
    {
      "cell_type": "code",
      "source": [
        "aporte = float(input(\"Digite o principal (R$): \"))\n",
        "juros_anual = float(input(\"Digite a taxa de juros anual (%): \"))\n",
        "anos = int(input(\"Digite o número de anos: \"))\n",
        "\n",
        "valor_investimento = aporte * (1 + (juros_anual / 100)) ** anos\n",
        "\n",
        "print(f\"O valor do investimento de {aporte:.2f} após {anos} anos é: R$ {valor_investimento:.2f}\")"
      ],
      "metadata": {
        "id": "3XHAThk1oFIT",
        "colab": {
          "base_uri": "https://localhost:8080/"
        },
        "outputId": "8490158a-cb03-41b5-9863-c5b300241fac"
      },
      "execution_count": 8,
      "outputs": [
        {
          "output_type": "stream",
          "name": "stdout",
          "text": [
            "Digite o principal (R$): 1000\n",
            "Digite a taxa de juros anual (%): 5\n",
            "Digite o número de anos: 10\n",
            "O valor do investimento de 1000.00 após 10 anos é: R$ 1628.89\n"
          ]
        }
      ]
    },
    {
      "cell_type": "code",
      "source": [],
      "metadata": {
        "id": "GlyTvDQnpqQr"
      },
      "execution_count": null,
      "outputs": []
    }
  ]
}